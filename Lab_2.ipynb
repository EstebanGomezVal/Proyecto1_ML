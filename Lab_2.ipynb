{
 "cells": [
  {
   "cell_type": "markdown",
   "id": "6d865d1c",
   "metadata": {},
   "source": [
    "# Laboratorio #2\n",
    "___"
   ]
  },
  {
   "cell_type": "markdown",
   "id": "9bdd8e26",
   "metadata": {},
   "source": [
    "## Fashion MNIST"
   ]
  },
  {
   "cell_type": "markdown",
   "id": "86e2c5cb",
   "metadata": {},
   "source": [
    "`Fashion-MNIST es un dataset de imágenes de artículos de ropa proporcionado por Zalando, creado como un reemplazo moderno del clásico MNIST de dígitos manuscritos. Está compuesto por 70,000 imágenes en escala de grises de 28×28 píxeles, divididas en 60,000 imágenes de entrenamiento y 10,000 de prueba. `"
   ]
  },
  {
   "cell_type": "markdown",
   "id": "88b94f23",
   "metadata": {},
   "source": [
    "`Cada imagen está asociada con una etiqueta que indica el tipo de prenda, perteneciente a 10 clases:`\n",
    "- **T-shirt/top** (Clase 0)\n",
    "- **Trouser** (Clase 1)\n",
    "- **Pullover** (Clase 2)\n",
    "- **Dress** (Clase 3)\n",
    "- **Coat** (Clase 4)\n",
    "- **Sandal** (Clase 5)\n",
    "- **Shirt** (Clase 6)\n",
    "- **Sneaker** (Clase 7)\n",
    "- **Bag** (Clase 8)\n",
    "- **Ankle boot** (Clase 9)\n",
    "___"
   ]
  },
  {
   "cell_type": "markdown",
   "id": "c67a92c9",
   "metadata": {},
   "source": [
    "### Librerias"
   ]
  },
  {
   "cell_type": "code",
   "execution_count": 5,
   "id": "211c5175",
   "metadata": {},
   "outputs": [
    {
     "name": "stdout",
     "output_type": "stream",
     "text": [
      "Collecting torch\n",
      "  Downloading torch-2.8.0-cp311-cp311-win_amd64.whl.metadata (30 kB)\n",
      "Collecting filelock (from torch)\n",
      "  Downloading filelock-3.19.1-py3-none-any.whl.metadata (2.1 kB)\n",
      "Requirement already satisfied: typing-extensions>=4.10.0 in c:\\users\\roi_f\\anaconda3\\envs\\personal\\lib\\site-packages (from torch) (4.10.0)\n",
      "Collecting sympy>=1.13.3 (from torch)\n",
      "  Downloading sympy-1.14.0-py3-none-any.whl.metadata (12 kB)\n",
      "Collecting networkx (from torch)\n",
      "  Downloading networkx-3.5-py3-none-any.whl.metadata (6.3 kB)\n",
      "Requirement already satisfied: jinja2 in c:\\users\\roi_f\\anaconda3\\envs\\personal\\lib\\site-packages (from torch) (3.1.4)\n",
      "Collecting fsspec (from torch)\n",
      "  Downloading fsspec-2025.9.0-py3-none-any.whl.metadata (10 kB)\n",
      "Requirement already satisfied: mpmath<1.4,>=1.1.0 in c:\\users\\roi_f\\anaconda3\\envs\\personal\\lib\\site-packages (from sympy>=1.13.3->torch) (1.3.0)\n",
      "Requirement already satisfied: MarkupSafe>=2.0 in c:\\users\\roi_f\\anaconda3\\envs\\personal\\lib\\site-packages (from jinja2->torch) (2.1.5)\n",
      "Downloading torch-2.8.0-cp311-cp311-win_amd64.whl (241.4 MB)\n",
      "   ---------------------------------------- 0.0/241.4 MB ? eta -:--:--\n",
      "   ---------------------------------------- 0.0/241.4 MB 991.0 kB/s eta 0:04:04\n",
      "   ---------------------------------------- 0.1/241.4 MB 1.7 MB/s eta 0:02:19\n",
      "   ---------------------------------------- 0.1/241.4 MB 1.1 MB/s eta 0:03:47\n",
      "   ---------------------------------------- 0.2/241.4 MB 1.5 MB/s eta 0:02:39\n",
      "   ---------------------------------------- 0.3/241.4 MB 1.5 MB/s eta 0:02:45\n",
      "   ---------------------------------------- 0.4/241.4 MB 1.6 MB/s eta 0:02:35\n",
      "   ---------------------------------------- 0.5/241.4 MB 1.7 MB/s eta 0:02:21\n",
      "   ---------------------------------------- 0.7/241.4 MB 2.0 MB/s eta 0:02:01\n",
      "   ---------------------------------------- 0.8/241.4 MB 2.2 MB/s eta 0:01:48\n",
      "   ---------------------------------------- 1.0/241.4 MB 2.5 MB/s eta 0:01:37\n",
      "   ---------------------------------------- 1.2/241.4 MB 2.7 MB/s eta 0:01:30\n",
      "   ---------------------------------------- 1.4/241.4 MB 2.8 MB/s eta 0:01:25\n",
      "   ---------------------------------------- 1.6/241.4 MB 3.1 MB/s eta 0:01:19\n",
      "   ---------------------------------------- 1.9/241.4 MB 3.3 MB/s eta 0:01:13\n",
      "   ---------------------------------------- 2.2/241.4 MB 3.4 MB/s eta 0:01:10\n",
      "   ---------------------------------------- 2.4/241.4 MB 3.6 MB/s eta 0:01:06\n",
      "   ---------------------------------------- 2.6/241.4 MB 3.7 MB/s eta 0:01:05\n",
      "   ---------------------------------------- 2.9/241.4 MB 3.8 MB/s eta 0:01:03\n",
      "    --------------------------------------- 3.2/241.4 MB 4.1 MB/s eta 0:00:59\n",
      "    --------------------------------------- 3.5/241.4 MB 4.2 MB/s eta 0:00:58\n",
      "    --------------------------------------- 3.7/241.4 MB 4.3 MB/s eta 0:00:56\n",
      "    --------------------------------------- 3.8/241.4 MB 4.1 MB/s eta 0:00:58\n",
      "    --------------------------------------- 4.0/241.4 MB 4.2 MB/s eta 0:00:58\n",
      "    --------------------------------------- 4.4/241.4 MB 4.3 MB/s eta 0:00:56\n",
      "    --------------------------------------- 4.7/241.4 MB 4.5 MB/s eta 0:00:54\n",
      "    --------------------------------------- 5.1/241.4 MB 4.7 MB/s eta 0:00:51\n",
      "    --------------------------------------- 5.5/241.4 MB 4.8 MB/s eta 0:00:50\n",
      "    --------------------------------------- 6.0/241.4 MB 5.0 MB/s eta 0:00:47\n",
      "   - -------------------------------------- 6.3/241.4 MB 5.1 MB/s eta 0:00:47\n",
      "   - -------------------------------------- 6.8/241.4 MB 5.3 MB/s eta 0:00:45\n",
      "   - -------------------------------------- 7.2/241.4 MB 5.5 MB/s eta 0:00:43\n",
      "   - -------------------------------------- 7.7/241.4 MB 5.6 MB/s eta 0:00:42\n",
      "   - -------------------------------------- 8.2/241.4 MB 5.8 MB/s eta 0:00:41\n",
      "   - -------------------------------------- 8.6/241.4 MB 6.0 MB/s eta 0:00:39\n",
      "   - -------------------------------------- 9.1/241.4 MB 6.1 MB/s eta 0:00:39\n",
      "   - -------------------------------------- 9.9/241.4 MB 6.3 MB/s eta 0:00:37\n",
      "   - -------------------------------------- 10.8/241.4 MB 7.8 MB/s eta 0:00:30\n",
      "   - -------------------------------------- 11.3/241.4 MB 8.4 MB/s eta 0:00:28\n",
      "   - -------------------------------------- 11.8/241.4 MB 8.8 MB/s eta 0:00:26\n",
      "   -- ------------------------------------- 12.6/241.4 MB 9.5 MB/s eta 0:00:25\n",
      "   -- ------------------------------------- 13.3/241.4 MB 10.1 MB/s eta 0:00:23\n",
      "   -- ------------------------------------- 14.2/241.4 MB 11.7 MB/s eta 0:00:20\n",
      "   -- ------------------------------------- 15.1/241.4 MB 12.4 MB/s eta 0:00:19\n",
      "   -- ------------------------------------- 16.0/241.4 MB 13.4 MB/s eta 0:00:17\n",
      "   -- ------------------------------------- 16.6/241.4 MB 13.9 MB/s eta 0:00:17\n",
      "   -- ------------------------------------- 17.3/241.4 MB 14.6 MB/s eta 0:00:16\n",
      "   --- ------------------------------------ 18.3/241.4 MB 15.2 MB/s eta 0:00:15\n",
      "   --- ------------------------------------ 18.7/241.4 MB 15.2 MB/s eta 0:00:15\n",
      "   --- ------------------------------------ 19.7/241.4 MB 16.4 MB/s eta 0:00:14\n",
      "   --- ------------------------------------ 20.4/241.4 MB 16.4 MB/s eta 0:00:14\n",
      "   --- ------------------------------------ 21.2/241.4 MB 16.8 MB/s eta 0:00:14\n",
      "   --- ------------------------------------ 22.3/241.4 MB 17.2 MB/s eta 0:00:13\n",
      "   --- ------------------------------------ 23.1/241.4 MB 17.7 MB/s eta 0:00:13\n",
      "   ---- ----------------------------------- 24.2/241.4 MB 18.7 MB/s eta 0:00:12\n",
      "   ---- ----------------------------------- 25.1/241.4 MB 18.7 MB/s eta 0:00:12\n",
      "   ---- ----------------------------------- 26.2/241.4 MB 19.3 MB/s eta 0:00:12\n",
      "   ---- ----------------------------------- 27.1/241.4 MB 20.5 MB/s eta 0:00:11\n",
      "   ---- ----------------------------------- 28.3/241.4 MB 20.5 MB/s eta 0:00:11\n",
      "   ---- ----------------------------------- 29.2/241.4 MB 21.9 MB/s eta 0:00:10\n",
      "   ----- ---------------------------------- 30.3/241.4 MB 21.9 MB/s eta 0:00:10\n",
      "   ----- ---------------------------------- 31.4/241.4 MB 21.8 MB/s eta 0:00:10\n",
      "   ----- ---------------------------------- 32.2/241.4 MB 21.8 MB/s eta 0:00:10\n",
      "   ----- ---------------------------------- 33.5/241.4 MB 22.6 MB/s eta 0:00:10\n",
      "   ----- ---------------------------------- 34.6/241.4 MB 22.6 MB/s eta 0:00:10\n",
      "   ----- ---------------------------------- 35.5/241.4 MB 22.6 MB/s eta 0:00:10\n",
      "   ----- ---------------------------------- 36.1/241.4 MB 21.1 MB/s eta 0:00:10\n",
      "   ------ --------------------------------- 36.3/241.4 MB 19.9 MB/s eta 0:00:11\n",
      "   ------ --------------------------------- 36.5/241.4 MB 18.7 MB/s eta 0:00:11\n",
      "   ------ --------------------------------- 36.6/241.4 MB 18.7 MB/s eta 0:00:11\n",
      "   ------ --------------------------------- 37.1/241.4 MB 16.4 MB/s eta 0:00:13\n",
      "   ------ --------------------------------- 38.3/241.4 MB 16.4 MB/s eta 0:00:13\n",
      "   ------ --------------------------------- 39.5/241.4 MB 16.4 MB/s eta 0:00:13\n",
      "   ------ --------------------------------- 40.3/241.4 MB 16.4 MB/s eta 0:00:13\n",
      "   ------ --------------------------------- 41.4/241.4 MB 16.0 MB/s eta 0:00:13\n",
      "   ------- -------------------------------- 42.5/241.4 MB 16.4 MB/s eta 0:00:13\n",
      "   ------- -------------------------------- 43.2/241.4 MB 16.0 MB/s eta 0:00:13\n",
      "   ------- -------------------------------- 44.5/241.4 MB 16.0 MB/s eta 0:00:13\n",
      "   ------- -------------------------------- 44.5/241.4 MB 16.0 MB/s eta 0:00:13\n",
      "   ------- -------------------------------- 44.5/241.4 MB 16.0 MB/s eta 0:00:13\n",
      "   ------- -------------------------------- 44.9/241.4 MB 13.6 MB/s eta 0:00:15\n",
      "   ------- -------------------------------- 45.3/241.4 MB 13.1 MB/s eta 0:00:15\n",
      "   ------- -------------------------------- 46.0/241.4 MB 12.8 MB/s eta 0:00:16\n",
      "   ------- -------------------------------- 47.0/241.4 MB 15.6 MB/s eta 0:00:13\n",
      "   -------- ------------------------------- 48.6/241.4 MB 16.4 MB/s eta 0:00:12\n",
      "   -------- ------------------------------- 50.0/241.4 MB 16.8 MB/s eta 0:00:12\n",
      "   -------- ------------------------------- 50.9/241.4 MB 16.8 MB/s eta 0:00:12\n",
      "   -------- ------------------------------- 51.9/241.4 MB 16.8 MB/s eta 0:00:12\n",
      "   -------- ------------------------------- 52.6/241.4 MB 16.0 MB/s eta 0:00:12\n",
      "   -------- ------------------------------- 53.2/241.4 MB 15.2 MB/s eta 0:00:13\n",
      "   --------- ------------------------------ 54.4/241.4 MB 15.6 MB/s eta 0:00:12\n",
      "   --------- ------------------------------ 55.8/241.4 MB 21.1 MB/s eta 0:00:09\n",
      "   --------- ------------------------------ 56.8/241.4 MB 21.1 MB/s eta 0:00:09\n",
      "   --------- ------------------------------ 57.1/241.4 MB 19.8 MB/s eta 0:00:10\n",
      "   --------- ------------------------------ 58.4/241.4 MB 19.3 MB/s eta 0:00:10\n",
      "   --------- ------------------------------ 59.7/241.4 MB 19.3 MB/s eta 0:00:10\n",
      "   ---------- ----------------------------- 61.1/241.4 MB 19.2 MB/s eta 0:00:10\n",
      "   ---------- ----------------------------- 62.8/241.4 MB 21.9 MB/s eta 0:00:09\n",
      "   ---------- ----------------------------- 64.1/241.4 MB 23.4 MB/s eta 0:00:08\n",
      "   ---------- ----------------------------- 65.9/241.4 MB 24.2 MB/s eta 0:00:08\n",
      "   ----------- ---------------------------- 67.2/241.4 MB 27.3 MB/s eta 0:00:07\n",
      "   ----------- ---------------------------- 67.9/241.4 MB 27.3 MB/s eta 0:00:07\n",
      "   ----------- ---------------------------- 68.5/241.4 MB 25.2 MB/s eta 0:00:07\n",
      "   ----------- ---------------------------- 69.7/241.4 MB 25.1 MB/s eta 0:00:07\n",
      "   ----------- ---------------------------- 71.1/241.4 MB 25.2 MB/s eta 0:00:07\n",
      "   ----------- ---------------------------- 71.8/241.4 MB 24.2 MB/s eta 0:00:07\n",
      "   ----------- ---------------------------- 71.8/241.4 MB 24.2 MB/s eta 0:00:07\n",
      "   ----------- ---------------------------- 72.1/241.4 MB 20.5 MB/s eta 0:00:09\n",
      "   ------------ --------------------------- 72.5/241.4 MB 19.3 MB/s eta 0:00:09\n",
      "   ------------ --------------------------- 73.9/241.4 MB 19.8 MB/s eta 0:00:09\n",
      "   ------------ --------------------------- 75.1/241.4 MB 19.3 MB/s eta 0:00:09\n",
      "   ------------ --------------------------- 76.7/241.4 MB 18.7 MB/s eta 0:00:09\n",
      "   ------------ --------------------------- 77.7/241.4 MB 19.2 MB/s eta 0:00:09\n",
      "   ------------ --------------------------- 78.4/241.4 MB 19.3 MB/s eta 0:00:09\n",
      "   ------------- -------------------------- 79.1/241.4 MB 19.3 MB/s eta 0:00:09\n",
      "   ------------- -------------------------- 80.4/241.4 MB 18.7 MB/s eta 0:00:09\n",
      "   ------------- -------------------------- 81.7/241.4 MB 18.7 MB/s eta 0:00:09\n",
      "   ------------- -------------------------- 83.0/241.4 MB 24.2 MB/s eta 0:00:07\n",
      "   ------------- -------------------------- 84.2/241.4 MB 24.3 MB/s eta 0:00:07\n",
      "   -------------- ------------------------- 85.4/241.4 MB 25.1 MB/s eta 0:00:07\n",
      "   -------------- ------------------------- 87.2/241.4 MB 25.2 MB/s eta 0:00:07\n",
      "   -------------- ------------------------- 88.5/241.4 MB 26.2 MB/s eta 0:00:06\n",
      "   -------------- ------------------------- 89.7/241.4 MB 28.5 MB/s eta 0:00:06\n",
      "   --------------- ------------------------ 91.4/241.4 MB 29.7 MB/s eta 0:00:06\n",
      "   --------------- ------------------------ 92.6/241.4 MB 29.7 MB/s eta 0:00:06\n",
      "   --------------- ------------------------ 93.7/241.4 MB 28.4 MB/s eta 0:00:06\n",
      "   --------------- ------------------------ 95.4/241.4 MB 28.5 MB/s eta 0:00:06\n",
      "   --------------- ------------------------ 96.4/241.4 MB 27.3 MB/s eta 0:00:06\n",
      "   ---------------- ----------------------- 97.5/241.4 MB 26.2 MB/s eta 0:00:06\n",
      "   ---------------- ----------------------- 99.0/241.4 MB 27.3 MB/s eta 0:00:06\n",
      "   ---------------- ---------------------- 100.4/241.4 MB 27.3 MB/s eta 0:00:06\n",
      "   ---------------- ---------------------- 102.2/241.4 MB 27.3 MB/s eta 0:00:06\n",
      "   ---------------- ---------------------- 103.7/241.4 MB 27.3 MB/s eta 0:00:06\n",
      "   ---------------- ---------------------- 105.1/241.4 MB 26.2 MB/s eta 0:00:06\n",
      "   ----------------- --------------------- 106.2/241.4 MB 26.2 MB/s eta 0:00:06\n",
      "   ----------------- --------------------- 107.3/241.4 MB 26.2 MB/s eta 0:00:06\n",
      "   ----------------- --------------------- 108.9/241.4 MB 27.3 MB/s eta 0:00:05\n",
      "   ----------------- --------------------- 110.1/241.4 MB 27.3 MB/s eta 0:00:05\n",
      "   ----------------- --------------------- 111.1/241.4 MB 25.2 MB/s eta 0:00:06\n",
      "   ------------------ -------------------- 112.0/241.4 MB 23.4 MB/s eta 0:00:06\n",
      "   ------------------ -------------------- 113.1/241.4 MB 23.4 MB/s eta 0:00:06\n",
      "   ------------------ -------------------- 114.5/241.4 MB 23.4 MB/s eta 0:00:06\n",
      "   ------------------ -------------------- 115.7/241.4 MB 23.4 MB/s eta 0:00:06\n",
      "   ------------------ -------------------- 117.0/241.4 MB 24.2 MB/s eta 0:00:06\n",
      "   ------------------- ------------------- 118.0/241.4 MB 23.4 MB/s eta 0:00:06\n",
      "   ------------------- ------------------- 118.4/241.4 MB 21.8 MB/s eta 0:00:06\n",
      "   ------------------- ------------------- 119.0/241.4 MB 19.9 MB/s eta 0:00:07\n",
      "   ------------------- ------------------- 120.4/241.4 MB 20.5 MB/s eta 0:00:06\n",
      "   ------------------- ------------------- 122.2/241.4 MB 21.8 MB/s eta 0:00:06\n",
      "   ------------------- ------------------- 123.6/241.4 MB 23.4 MB/s eta 0:00:06\n",
      "   -------------------- ------------------ 125.7/241.4 MB 24.3 MB/s eta 0:00:05\n",
      "   -------------------- ------------------ 127.9/241.4 MB 27.3 MB/s eta 0:00:05\n",
      "   -------------------- ------------------ 129.1/241.4 MB 31.2 MB/s eta 0:00:04\n",
      "   --------------------- ----------------- 130.6/241.4 MB 32.7 MB/s eta 0:00:04\n",
      "   --------------------- ----------------- 131.3/241.4 MB 31.1 MB/s eta 0:00:04\n",
      "   --------------------- ----------------- 132.3/241.4 MB 28.5 MB/s eta 0:00:04\n",
      "   --------------------- ----------------- 133.2/241.4 MB 27.3 MB/s eta 0:00:04\n",
      "   --------------------- ----------------- 134.3/241.4 MB 26.2 MB/s eta 0:00:05\n",
      "   --------------------- ----------------- 135.5/241.4 MB 24.2 MB/s eta 0:00:05\n",
      "   ---------------------- ---------------- 137.0/241.4 MB 23.4 MB/s eta 0:00:05\n",
      "   ---------------------- ---------------- 138.9/241.4 MB 24.2 MB/s eta 0:00:05\n",
      "   ---------------------- ---------------- 140.6/241.4 MB 25.2 MB/s eta 0:00:04\n",
      "   ---------------------- ---------------- 141.9/241.4 MB 27.3 MB/s eta 0:00:04\n",
      "   ----------------------- --------------- 143.1/241.4 MB 28.4 MB/s eta 0:00:04\n",
      "   ----------------------- --------------- 144.6/241.4 MB 29.7 MB/s eta 0:00:04\n",
      "   ----------------------- --------------- 145.3/241.4 MB 27.3 MB/s eta 0:00:04\n",
      "   ----------------------- --------------- 146.5/241.4 MB 27.3 MB/s eta 0:00:04\n",
      "   ----------------------- --------------- 147.7/241.4 MB 27.3 MB/s eta 0:00:04\n",
      "   ------------------------ -------------- 149.2/241.4 MB 27.3 MB/s eta 0:00:04\n",
      "   ------------------------ -------------- 150.4/241.4 MB 26.2 MB/s eta 0:00:04\n",
      "   ------------------------ -------------- 151.6/241.4 MB 25.2 MB/s eta 0:00:04\n",
      "   ------------------------ -------------- 153.1/241.4 MB 26.2 MB/s eta 0:00:04\n",
      "   ------------------------ -------------- 154.7/241.4 MB 26.2 MB/s eta 0:00:04\n",
      "   ------------------------- ------------- 155.8/241.4 MB 28.5 MB/s eta 0:00:04\n",
      "   ------------------------- ------------- 157.2/241.4 MB 29.7 MB/s eta 0:00:03\n",
      "   ------------------------- ------------- 158.5/241.4 MB 28.4 MB/s eta 0:00:03\n",
      "   ------------------------- ------------- 160.1/241.4 MB 27.3 MB/s eta 0:00:03\n",
      "   -------------------------- ------------ 161.7/241.4 MB 28.4 MB/s eta 0:00:03\n",
      "   -------------------------- ------------ 163.1/241.4 MB 27.3 MB/s eta 0:00:03\n",
      "   -------------------------- ------------ 164.4/241.4 MB 26.2 MB/s eta 0:00:03\n",
      "   -------------------------- ------------ 165.0/241.4 MB 25.2 MB/s eta 0:00:04\n",
      "   -------------------------- ------------ 165.8/241.4 MB 23.4 MB/s eta 0:00:04\n",
      "   -------------------------- ------------ 166.5/241.4 MB 21.8 MB/s eta 0:00:04\n",
      "   --------------------------- ----------- 167.7/241.4 MB 21.1 MB/s eta 0:00:04\n",
      "   --------------------------- ----------- 168.8/241.4 MB 20.5 MB/s eta 0:00:04\n",
      "   --------------------------- ----------- 169.9/241.4 MB 19.9 MB/s eta 0:00:04\n",
      "   --------------------------- ----------- 171.0/241.4 MB 18.7 MB/s eta 0:00:04\n",
      "   --------------------------- ----------- 172.1/241.4 MB 18.2 MB/s eta 0:00:04\n",
      "   ---------------------------- ---------- 173.6/241.4 MB 17.7 MB/s eta 0:00:04\n",
      "   ---------------------------- ---------- 174.1/241.4 MB 16.8 MB/s eta 0:00:05\n",
      "   ---------------------------- ---------- 175.0/241.4 MB 17.2 MB/s eta 0:00:04\n",
      "   ---------------------------- ---------- 176.4/241.4 MB 18.2 MB/s eta 0:00:04\n",
      "   ---------------------------- ---------- 176.7/241.4 MB 17.2 MB/s eta 0:00:04\n",
      "   ---------------------------- ---------- 176.8/241.4 MB 16.0 MB/s eta 0:00:05\n",
      "   ---------------------------- ---------- 176.9/241.4 MB 15.2 MB/s eta 0:00:05\n",
      "   ---------------------------- ---------- 177.1/241.4 MB 13.4 MB/s eta 0:00:05\n",
      "   ---------------------------- ---------- 177.2/241.4 MB 12.1 MB/s eta 0:00:06\n",
      "   ---------------------------- ---------- 177.7/241.4 MB 10.7 MB/s eta 0:00:06\n",
      "   ---------------------------- ---------- 178.2/241.4 MB 10.4 MB/s eta 0:00:07\n",
      "   ---------------------------- ---------- 178.9/241.4 MB 10.1 MB/s eta 0:00:07\n",
      "   ----------------------------- --------- 180.4/241.4 MB 10.6 MB/s eta 0:00:06\n",
      "   ----------------------------- --------- 181.1/241.4 MB 10.4 MB/s eta 0:00:06\n",
      "   ----------------------------- --------- 181.7/241.4 MB 10.1 MB/s eta 0:00:06\n",
      "   ----------------------------- --------- 183.1/241.4 MB 10.2 MB/s eta 0:00:06\n",
      "   ----------------------------- --------- 184.7/241.4 MB 10.9 MB/s eta 0:00:06\n",
      "   ------------------------------ -------- 186.4/241.4 MB 11.1 MB/s eta 0:00:05\n",
      "   ------------------------------ -------- 187.8/241.4 MB 21.1 MB/s eta 0:00:03\n",
      "   ------------------------------ -------- 188.6/241.4 MB 23.4 MB/s eta 0:00:03\n",
      "   ------------------------------ -------- 188.6/241.4 MB 21.8 MB/s eta 0:00:03\n",
      "   ------------------------------ -------- 188.7/241.4 MB 17.7 MB/s eta 0:00:03\n",
      "   ------------------------------ -------- 188.8/241.4 MB 10.9 MB/s eta 0:00:05\n",
      "   ------------------------------ -------- 189.6/241.4 MB 10.4 MB/s eta 0:00:05\n",
      "   ------------------------------ -------- 191.0/241.4 MB 10.1 MB/s eta 0:00:05\n",
      "   ------------------------------- ------- 192.2/241.4 MB 10.4 MB/s eta 0:00:05\n",
      "   ------------------------------- ------- 193.5/241.4 MB 10.4 MB/s eta 0:00:05\n",
      "   ------------------------------- ------- 194.8/241.4 MB 10.2 MB/s eta 0:00:05\n",
      "   ------------------------------- ------- 195.5/241.4 MB 10.1 MB/s eta 0:00:05\n",
      "   -------------------------------- ------- 196.6/241.4 MB 9.8 MB/s eta 0:00:05\n",
      "   -------------------------------- ------- 197.7/241.4 MB 9.6 MB/s eta 0:00:05\n",
      "   -------------------------------- ------- 198.7/241.4 MB 9.6 MB/s eta 0:00:05\n",
      "   -------------------------------- ------ 200.1/241.4 MB 23.4 MB/s eta 0:00:02\n",
      "   -------------------------------- ------ 201.0/241.4 MB 22.6 MB/s eta 0:00:02\n",
      "   -------------------------------- ------ 201.9/241.4 MB 21.8 MB/s eta 0:00:02\n",
      "   -------------------------------- ------ 203.0/241.4 MB 21.1 MB/s eta 0:00:02\n",
      "   --------------------------------- ----- 204.3/241.4 MB 21.8 MB/s eta 0:00:02\n",
      "   --------------------------------- ----- 206.2/241.4 MB 24.2 MB/s eta 0:00:02\n",
      "   --------------------------------- ----- 207.6/241.4 MB 25.2 MB/s eta 0:00:02\n",
      "   --------------------------------- ----- 209.2/241.4 MB 26.2 MB/s eta 0:00:02\n",
      "   --------------------------------- ----- 209.6/241.4 MB 22.6 MB/s eta 0:00:02\n",
      "   ---------------------------------- ---- 211.2/241.4 MB 24.2 MB/s eta 0:00:02\n",
      "   ---------------------------------- ---- 213.0/241.4 MB 27.3 MB/s eta 0:00:02\n",
      "   ---------------------------------- ---- 214.5/241.4 MB 28.4 MB/s eta 0:00:01\n",
      "   ---------------------------------- ---- 214.7/241.4 MB 25.2 MB/s eta 0:00:02\n",
      "   ---------------------------------- ---- 215.2/241.4 MB 21.8 MB/s eta 0:00:02\n",
      "   ---------------------------------- ---- 215.5/241.4 MB 19.8 MB/s eta 0:00:02\n",
      "   ---------------------------------- ---- 216.5/241.4 MB 19.3 MB/s eta 0:00:02\n",
      "   ----------------------------------- --- 217.0/241.4 MB 17.3 MB/s eta 0:00:02\n",
      "   ----------------------------------- --- 218.1/241.4 MB 17.3 MB/s eta 0:00:02\n",
      "   ----------------------------------- --- 218.7/241.4 MB 16.4 MB/s eta 0:00:02\n",
      "   ----------------------------------- --- 219.7/241.4 MB 16.4 MB/s eta 0:00:02\n",
      "   ----------------------------------- --- 219.9/241.4 MB 16.0 MB/s eta 0:00:02\n",
      "   ----------------------------------- --- 221.5/241.4 MB 14.9 MB/s eta 0:00:02\n",
      "   ------------------------------------ -- 222.9/241.4 MB 14.6 MB/s eta 0:00:02\n",
      "   ------------------------------------ -- 224.0/241.4 MB 14.2 MB/s eta 0:00:02\n",
      "   ------------------------------------ -- 225.3/241.4 MB 15.6 MB/s eta 0:00:02\n",
      "   ------------------------------------ -- 226.6/241.4 MB 17.2 MB/s eta 0:00:01\n",
      "   ------------------------------------ -- 227.1/241.4 MB 16.8 MB/s eta 0:00:01\n",
      "   ------------------------------------ -- 227.8/241.4 MB 16.8 MB/s eta 0:00:01\n",
      "   ------------------------------------ -- 228.7/241.4 MB 15.6 MB/s eta 0:00:01\n",
      "   ------------------------------------- - 229.2/241.4 MB 15.2 MB/s eta 0:00:01\n",
      "   ------------------------------------- - 230.0/241.4 MB 16.0 MB/s eta 0:00:01\n",
      "   ------------------------------------- - 231.0/241.4 MB 16.8 MB/s eta 0:00:01\n",
      "   ------------------------------------- - 231.7/241.4 MB 16.0 MB/s eta 0:00:01\n",
      "   ------------------------------------- - 233.6/241.4 MB 16.4 MB/s eta 0:00:01\n",
      "   ------------------------------------- - 235.1/241.4 MB 16.8 MB/s eta 0:00:01\n",
      "   --------------------------------------  236.5/241.4 MB 16.4 MB/s eta 0:00:01\n",
      "   --------------------------------------  237.9/241.4 MB 19.8 MB/s eta 0:00:01\n",
      "   --------------------------------------  238.8/241.4 MB 21.8 MB/s eta 0:00:01\n",
      "   --------------------------------------  239.7/241.4 MB 23.4 MB/s eta 0:00:01\n",
      "   --------------------------------------  240.1/241.4 MB 20.5 MB/s eta 0:00:01\n",
      "   --------------------------------------  240.5/241.4 MB 19.2 MB/s eta 0:00:01\n",
      "   --------------------------------------  241.4/241.4 MB 19.2 MB/s eta 0:00:01\n",
      "   --------------------------------------  241.4/241.4 MB 19.2 MB/s eta 0:00:01\n",
      "   --------------------------------------  241.4/241.4 MB 19.2 MB/s eta 0:00:01\n",
      "   --------------------------------------  241.4/241.4 MB 19.2 MB/s eta 0:00:01\n",
      "   --------------------------------------  241.4/241.4 MB 19.2 MB/s eta 0:00:01\n",
      "   --------------------------------------  241.4/241.4 MB 19.2 MB/s eta 0:00:01\n",
      "   --------------------------------------  241.4/241.4 MB 19.2 MB/s eta 0:00:01\n",
      "   --------------------------------------  241.4/241.4 MB 19.2 MB/s eta 0:00:01\n",
      "   --------------------------------------  241.4/241.4 MB 19.2 MB/s eta 0:00:01\n",
      "   --------------------------------------  241.4/241.4 MB 19.2 MB/s eta 0:00:01\n",
      "   --------------------------------------  241.4/241.4 MB 19.2 MB/s eta 0:00:01\n",
      "   --------------------------------------  241.4/241.4 MB 19.2 MB/s eta 0:00:01\n",
      "   --------------------------------------  241.4/241.4 MB 19.2 MB/s eta 0:00:01\n",
      "   --------------------------------------  241.4/241.4 MB 19.2 MB/s eta 0:00:01\n",
      "   --------------------------------------  241.4/241.4 MB 19.2 MB/s eta 0:00:01\n",
      "   --------------------------------------  241.4/241.4 MB 19.2 MB/s eta 0:00:01\n",
      "   --------------------------------------  241.4/241.4 MB 19.2 MB/s eta 0:00:01\n",
      "   --------------------------------------  241.4/241.4 MB 19.2 MB/s eta 0:00:01\n",
      "   --------------------------------------  241.4/241.4 MB 19.2 MB/s eta 0:00:01\n",
      "   --------------------------------------  241.4/241.4 MB 19.2 MB/s eta 0:00:01\n",
      "   --------------------------------------  241.4/241.4 MB 19.2 MB/s eta 0:00:01\n",
      "   --------------------------------------  241.4/241.4 MB 19.2 MB/s eta 0:00:01\n",
      "   --------------------------------------  241.4/241.4 MB 19.2 MB/s eta 0:00:01\n",
      "   --------------------------------------  241.4/241.4 MB 19.2 MB/s eta 0:00:01\n",
      "   --------------------------------------  241.4/241.4 MB 19.2 MB/s eta 0:00:01\n",
      "   ---------------------------------------- 241.4/241.4 MB 6.0 MB/s eta 0:00:00\n",
      "Downloading sympy-1.14.0-py3-none-any.whl (6.3 MB)\n",
      "   ---------------------------------------- 0.0/6.3 MB ? eta -:--:--\n",
      "   ---------------------------------------- 0.0/6.3 MB ? eta -:--:--\n",
      "   --------- ------------------------------ 1.5/6.3 MB 32.5 MB/s eta 0:00:01\n",
      "   ------------------- -------------------- 3.1/6.3 MB 32.4 MB/s eta 0:00:01\n",
      "   --------------------------- ------------ 4.4/6.3 MB 28.2 MB/s eta 0:00:01\n",
      "   -------------------------------------- - 6.0/6.3 MB 29.5 MB/s eta 0:00:01\n",
      "   ---------------------------------------  6.3/6.3 MB 28.7 MB/s eta 0:00:01\n",
      "   ---------------------------------------- 6.3/6.3 MB 22.4 MB/s eta 0:00:00\n",
      "Downloading filelock-3.19.1-py3-none-any.whl (15 kB)\n",
      "Downloading fsspec-2025.9.0-py3-none-any.whl (199 kB)\n",
      "   ---------------------------------------- 0.0/199.3 kB ? eta -:--:--\n",
      "   ---------------------------------------- 199.3/199.3 kB 6.1 MB/s eta 0:00:00\n",
      "Downloading networkx-3.5-py3-none-any.whl (2.0 MB)\n",
      "   ---------------------------------------- 0.0/2.0 MB ? eta -:--:--\n",
      "   -------------------- ------------------- 1.0/2.0 MB 32.7 MB/s eta 0:00:01\n",
      "   ---------------------------------------  2.0/2.0 MB 32.0 MB/s eta 0:00:01\n",
      "   ---------------------------------------- 2.0/2.0 MB 18.4 MB/s eta 0:00:00\n",
      "Installing collected packages: sympy, networkx, fsspec, filelock, torch\n",
      "  Attempting uninstall: sympy\n",
      "    Found existing installation: sympy 1.12\n",
      "    Uninstalling sympy-1.12:\n",
      "      Successfully uninstalled sympy-1.12\n",
      "Successfully installed filelock-3.19.1 fsspec-2025.9.0 networkx-3.5 sympy-1.14.0 torch-2.8.0\n",
      "Note: you may need to restart the kernel to use updated packages.\n"
     ]
    }
   ],
   "source": [
    "pip install torch"
   ]
  },
  {
   "cell_type": "code",
   "execution_count": 6,
   "id": "e07dcb86",
   "metadata": {},
   "outputs": [],
   "source": [
    "import pandas as pd\n",
    "import numpy as np\n",
    "import matplotlib.pyplot as plt\n",
    "import torch \n",
    "import sklearn"
   ]
  },
  {
   "cell_type": "markdown",
   "id": "e07d7f5a",
   "metadata": {},
   "source": [
    "___"
   ]
  },
  {
   "cell_type": "markdown",
   "id": "566fd27e",
   "metadata": {},
   "source": [
    "### Importar de datos"
   ]
  },
  {
   "cell_type": "code",
   "execution_count": 7,
   "id": "fc4e5fc9",
   "metadata": {},
   "outputs": [],
   "source": [
    "from tensorflow.keras.datasets import fashion_mnist\n",
    "(X_train, y_train), (X_test, y_test) = fashion_mnist.load_data()"
   ]
  },
  {
   "cell_type": "code",
   "execution_count": 8,
   "id": "1cb54aad",
   "metadata": {},
   "outputs": [
    {
     "name": "stdout",
     "output_type": "stream",
     "text": [
      "Este data set esta conformado por 60000 imagenes de 28x28 pixeles de datos de muestra.\n",
      "Los datos de entrenamiento suman 10000 muestras de 28x28 pixeles igual que el entrenamiento.\n",
      "El target tiene 10 posibles valores de salida.\n"
     ]
    }
   ],
   "source": [
    "print(f'Este data set esta conformado por {X_train.shape[0]} imagenes de {X_train.shape[1]}x{X_train.shape[2]} pixeles de datos de muestra.')\n",
    "print(f'Los datos de entrenamiento suman {X_test.shape[0]} muestras de {X_test.shape[1]}x{X_test.shape[2]} pixeles igual que el entrenamiento.')\n",
    "print(f'El target tiene {len(np.unique(y_train))} posibles valores de salida.')"
   ]
  },
  {
   "cell_type": "code",
   "execution_count": 9,
   "id": "79529eb8",
   "metadata": {},
   "outputs": [
    {
     "data": {
      "image/png": "[encoded data removed]",
      "text/plain": [
       "<Figure size 1200x500 with 10 Axes>"
      ]
     },
     "metadata": {},
     "output_type": "display_data"
    }
   ],
   "source": [
    "# Ejemplos de las imagenes\n",
    "\n",
    "fig, axes = plt.subplots(2, 5, figsize=(12, 5))\n",
    "\n",
    "axes = axes.flatten() \n",
    "\n",
    "for i in range(10):\n",
    "    axes[i].imshow(X_train[i], cmap='gray')      \n",
    "    axes[i].set_title(f\"Etiqueta: {y_train[i]}\")\n",
    "    axes[i].axis('off')\n",
    "\n",
    "plt.tight_layout()\n",
    "plt.show()  "
   ]
  },
  {
   "cell_type": "markdown",
   "id": "2e17eb2e",
   "metadata": {},
   "source": [
    "## Modelos\n",
    "___"
   ]
  },
  {
   "cell_type": "markdown",
   "id": "42fe785f",
   "metadata": {},
   "source": [
    "### Logistic regression"
   ]
  },
  {
   "cell_type": "code",
   "execution_count": 10,
   "id": "92bd59a2",
   "metadata": {},
   "outputs": [],
   "source": [
    "from sklearn.preprocessing import StandardScaler\n",
    "from sklearn.linear_model import LogisticRegression\n",
    "from sklearn.metrics import classification_report, accuracy_score, confusion_matrix"
   ]
  },
  {
   "cell_type": "code",
   "execution_count": 11,
   "id": "08a6e53a",
   "metadata": {},
   "outputs": [
    {
     "name": "stdout",
     "output_type": "stream",
     "text": [
      "Numero de dimensiones nueva del train: 2.\n",
      "Numero de dimensiones nueva del test: 2.\n"
     ]
    }
   ],
   "source": [
    "# Aplanar los datos a dos dimensiones\n",
    "\n",
    "X_train_flat = X_train.reshape(X_train.shape[0], -1)\n",
    "X_test_flat  = X_test.reshape(X_test.shape[0], -1)\n",
    "\n",
    "print(f'Numero de dimensiones nueva del train: {X_train_flat.ndim}.')\n",
    "print(f'Numero de dimensiones nueva del test: {X_test_flat.ndim}.')"
   ]
  },
  {
   "cell_type": "code",
   "execution_count": 12,
   "id": "df1eb975",
   "metadata": {},
   "outputs": [],
   "source": [
    "# Escalar datos\n",
    "scaler = StandardScaler()\n",
    "\n",
    "X_train_scaled = scaler.fit_transform(X_train_flat)\n",
    "X_test_scaled = scaler.transform(X_test_flat)"
   ]
  },
  {
   "cell_type": "code",
   "execution_count": 13,
   "id": "9d0dfdbf",
   "metadata": {},
   "outputs": [
    {
     "name": "stderr",
     "output_type": "stream",
     "text": [
      "c:\\Users\\Roi_f\\anaconda3\\envs\\personal\\Lib\\site-packages\\sklearn\\linear_model\\_logistic.py:1247: FutureWarning: 'multi_class' was deprecated in version 1.5 and will be removed in 1.7. From then on, it will always use 'multinomial'. Leave it to its default value to avoid this warning.\n",
      "  warnings.warn(\n"
     ]
    },
    {
     "ename": "KeyboardInterrupt",
     "evalue": "",
     "output_type": "error",
     "traceback": [
      "\u001b[1;31m---------------------------------------------------------------------------\u001b[0m",
      "\u001b[1;31mKeyboardInterrupt\u001b[0m                         Traceback (most recent call last)",
      "Cell \u001b[1;32mIn[13], line 2\u001b[0m\n\u001b[0;32m      1\u001b[0m log_reg \u001b[38;5;241m=\u001b[39m LogisticRegression(multi_class\u001b[38;5;241m=\u001b[39m\u001b[38;5;124m'\u001b[39m\u001b[38;5;124mmultinomial\u001b[39m\u001b[38;5;124m'\u001b[39m, solver\u001b[38;5;241m=\u001b[39m\u001b[38;5;124m'\u001b[39m\u001b[38;5;124msaga\u001b[39m\u001b[38;5;124m'\u001b[39m, max_iter\u001b[38;5;241m=\u001b[39m\u001b[38;5;241m100\u001b[39m, n_jobs\u001b[38;5;241m=\u001b[39m\u001b[38;5;241m-\u001b[39m\u001b[38;5;241m1\u001b[39m)\n\u001b[1;32m----> 2\u001b[0m \u001b[43mlog_reg\u001b[49m\u001b[38;5;241;43m.\u001b[39;49m\u001b[43mfit\u001b[49m\u001b[43m(\u001b[49m\u001b[43mX_train_scaled\u001b[49m\u001b[43m,\u001b[49m\u001b[43m \u001b[49m\u001b[43my_train\u001b[49m\u001b[43m)\u001b[49m\n\u001b[0;32m      4\u001b[0m y_pred \u001b[38;5;241m=\u001b[39m log_reg\u001b[38;5;241m.\u001b[39mpredict(X_test_scaled)\n",
      "File \u001b[1;32mc:\\Users\\Roi_f\\anaconda3\\envs\\personal\\Lib\\site-packages\\sklearn\\base.py:1473\u001b[0m, in \u001b[0;36m_fit_context.<locals>.decorator.<locals>.wrapper\u001b[1;34m(estimator, *args, **kwargs)\u001b[0m\n\u001b[0;32m   1466\u001b[0m     estimator\u001b[38;5;241m.\u001b[39m_validate_params()\n\u001b[0;32m   1468\u001b[0m \u001b[38;5;28;01mwith\u001b[39;00m config_context(\n\u001b[0;32m   1469\u001b[0m     skip_parameter_validation\u001b[38;5;241m=\u001b[39m(\n\u001b[0;32m   1470\u001b[0m         prefer_skip_nested_validation \u001b[38;5;129;01mor\u001b[39;00m global_skip_validation\n\u001b[0;32m   1471\u001b[0m     )\n\u001b[0;32m   1472\u001b[0m ):\n\u001b[1;32m-> 1473\u001b[0m     \u001b[38;5;28;01mreturn\u001b[39;00m \u001b[43mfit_method\u001b[49m\u001b[43m(\u001b[49m\u001b[43mestimator\u001b[49m\u001b[43m,\u001b[49m\u001b[43m \u001b[49m\u001b[38;5;241;43m*\u001b[39;49m\u001b[43margs\u001b[49m\u001b[43m,\u001b[49m\u001b[43m \u001b[49m\u001b[38;5;241;43m*\u001b[39;49m\u001b[38;5;241;43m*\u001b[39;49m\u001b[43mkwargs\u001b[49m\u001b[43m)\u001b[49m\n",
      "File \u001b[1;32mc:\\Users\\Roi_f\\anaconda3\\envs\\personal\\Lib\\site-packages\\sklearn\\linear_model\\_logistic.py:1350\u001b[0m, in \u001b[0;36mLogisticRegression.fit\u001b[1;34m(self, X, y, sample_weight)\u001b[0m\n\u001b[0;32m   1347\u001b[0m \u001b[38;5;28;01melse\u001b[39;00m:\n\u001b[0;32m   1348\u001b[0m     n_threads \u001b[38;5;241m=\u001b[39m \u001b[38;5;241m1\u001b[39m\n\u001b[1;32m-> 1350\u001b[0m fold_coefs_ \u001b[38;5;241m=\u001b[39m \u001b[43mParallel\u001b[49m\u001b[43m(\u001b[49m\u001b[43mn_jobs\u001b[49m\u001b[38;5;241;43m=\u001b[39;49m\u001b[38;5;28;43mself\u001b[39;49m\u001b[38;5;241;43m.\u001b[39;49m\u001b[43mn_jobs\u001b[49m\u001b[43m,\u001b[49m\u001b[43m \u001b[49m\u001b[43mverbose\u001b[49m\u001b[38;5;241;43m=\u001b[39;49m\u001b[38;5;28;43mself\u001b[39;49m\u001b[38;5;241;43m.\u001b[39;49m\u001b[43mverbose\u001b[49m\u001b[43m,\u001b[49m\u001b[43m \u001b[49m\u001b[43mprefer\u001b[49m\u001b[38;5;241;43m=\u001b[39;49m\u001b[43mprefer\u001b[49m\u001b[43m)\u001b[49m\u001b[43m(\u001b[49m\n\u001b[0;32m   1351\u001b[0m \u001b[43m    \u001b[49m\u001b[43mpath_func\u001b[49m\u001b[43m(\u001b[49m\n\u001b[0;32m   1352\u001b[0m \u001b[43m        \u001b[49m\u001b[43mX\u001b[49m\u001b[43m,\u001b[49m\n\u001b[0;32m   1353\u001b[0m \u001b[43m        \u001b[49m\u001b[43my\u001b[49m\u001b[43m,\u001b[49m\n\u001b[0;32m   1354\u001b[0m \u001b[43m        \u001b[49m\u001b[43mpos_class\u001b[49m\u001b[38;5;241;43m=\u001b[39;49m\u001b[43mclass_\u001b[49m\u001b[43m,\u001b[49m\n\u001b[0;32m   1355\u001b[0m \u001b[43m        \u001b[49m\u001b[43mCs\u001b[49m\u001b[38;5;241;43m=\u001b[39;49m\u001b[43m[\u001b[49m\u001b[43mC_\u001b[49m\u001b[43m]\u001b[49m\u001b[43m,\u001b[49m\n\u001b[0;32m   1356\u001b[0m \u001b[43m        \u001b[49m\u001b[43ml1_ratio\u001b[49m\u001b[38;5;241;43m=\u001b[39;49m\u001b[38;5;28;43mself\u001b[39;49m\u001b[38;5;241;43m.\u001b[39;49m\u001b[43ml1_ratio\u001b[49m\u001b[43m,\u001b[49m\n\u001b[0;32m   1357\u001b[0m \u001b[43m        \u001b[49m\u001b[43mfit_intercept\u001b[49m\u001b[38;5;241;43m=\u001b[39;49m\u001b[38;5;28;43mself\u001b[39;49m\u001b[38;5;241;43m.\u001b[39;49m\u001b[43mfit_intercept\u001b[49m\u001b[43m,\u001b[49m\n\u001b[0;32m   1358\u001b[0m \u001b[43m        \u001b[49m\u001b[43mtol\u001b[49m\u001b[38;5;241;43m=\u001b[39;49m\u001b[38;5;28;43mself\u001b[39;49m\u001b[38;5;241;43m.\u001b[39;49m\u001b[43mtol\u001b[49m\u001b[43m,\u001b[49m\n\u001b[0;32m   1359\u001b[0m \u001b[43m        \u001b[49m\u001b[43mverbose\u001b[49m\u001b[38;5;241;43m=\u001b[39;49m\u001b[38;5;28;43mself\u001b[39;49m\u001b[38;5;241;43m.\u001b[39;49m\u001b[43mverbose\u001b[49m\u001b[43m,\u001b[49m\n\u001b[0;32m   1360\u001b[0m \u001b[43m        \u001b[49m\u001b[43msolver\u001b[49m\u001b[38;5;241;43m=\u001b[39;49m\u001b[43msolver\u001b[49m\u001b[43m,\u001b[49m\n\u001b[0;32m   1361\u001b[0m \u001b[43m        \u001b[49m\u001b[43mmulti_class\u001b[49m\u001b[38;5;241;43m=\u001b[39;49m\u001b[43mmulti_class\u001b[49m\u001b[43m,\u001b[49m\n\u001b[0;32m   1362\u001b[0m \u001b[43m        \u001b[49m\u001b[43mmax_iter\u001b[49m\u001b[38;5;241;43m=\u001b[39;49m\u001b[38;5;28;43mself\u001b[39;49m\u001b[38;5;241;43m.\u001b[39;49m\u001b[43mmax_iter\u001b[49m\u001b[43m,\u001b[49m\n\u001b[0;32m   1363\u001b[0m \u001b[43m        \u001b[49m\u001b[43mclass_weight\u001b[49m\u001b[38;5;241;43m=\u001b[39;49m\u001b[38;5;28;43mself\u001b[39;49m\u001b[38;5;241;43m.\u001b[39;49m\u001b[43mclass_weight\u001b[49m\u001b[43m,\u001b[49m\n\u001b[0;32m   1364\u001b[0m \u001b[43m        \u001b[49m\u001b[43mcheck_input\u001b[49m\u001b[38;5;241;43m=\u001b[39;49m\u001b[38;5;28;43;01mFalse\u001b[39;49;00m\u001b[43m,\u001b[49m\n\u001b[0;32m   1365\u001b[0m \u001b[43m        \u001b[49m\u001b[43mrandom_state\u001b[49m\u001b[38;5;241;43m=\u001b[39;49m\u001b[38;5;28;43mself\u001b[39;49m\u001b[38;5;241;43m.\u001b[39;49m\u001b[43mrandom_state\u001b[49m\u001b[43m,\u001b[49m\n\u001b[0;32m   1366\u001b[0m \u001b[43m        \u001b[49m\u001b[43mcoef\u001b[49m\u001b[38;5;241;43m=\u001b[39;49m\u001b[43mwarm_start_coef_\u001b[49m\u001b[43m,\u001b[49m\n\u001b[0;32m   1367\u001b[0m \u001b[43m        \u001b[49m\u001b[43mpenalty\u001b[49m\u001b[38;5;241;43m=\u001b[39;49m\u001b[43mpenalty\u001b[49m\u001b[43m,\u001b[49m\n\u001b[0;32m   1368\u001b[0m \u001b[43m        \u001b[49m\u001b[43mmax_squared_sum\u001b[49m\u001b[38;5;241;43m=\u001b[39;49m\u001b[43mmax_squared_sum\u001b[49m\u001b[43m,\u001b[49m\n\u001b[0;32m   1369\u001b[0m \u001b[43m        \u001b[49m\u001b[43msample_weight\u001b[49m\u001b[38;5;241;43m=\u001b[39;49m\u001b[43msample_weight\u001b[49m\u001b[43m,\u001b[49m\n\u001b[0;32m   1370\u001b[0m \u001b[43m        \u001b[49m\u001b[43mn_threads\u001b[49m\u001b[38;5;241;43m=\u001b[39;49m\u001b[43mn_threads\u001b[49m\u001b[43m,\u001b[49m\n\u001b[0;32m   1371\u001b[0m \u001b[43m    \u001b[49m\u001b[43m)\u001b[49m\n\u001b[0;32m   1372\u001b[0m \u001b[43m    \u001b[49m\u001b[38;5;28;43;01mfor\u001b[39;49;00m\u001b[43m \u001b[49m\u001b[43mclass_\u001b[49m\u001b[43m,\u001b[49m\u001b[43m \u001b[49m\u001b[43mwarm_start_coef_\u001b[49m\u001b[43m \u001b[49m\u001b[38;5;129;43;01min\u001b[39;49;00m\u001b[43m \u001b[49m\u001b[38;5;28;43mzip\u001b[39;49m\u001b[43m(\u001b[49m\u001b[43mclasses_\u001b[49m\u001b[43m,\u001b[49m\u001b[43m \u001b[49m\u001b[43mwarm_start_coef\u001b[49m\u001b[43m)\u001b[49m\n\u001b[0;32m   1373\u001b[0m \u001b[43m\u001b[49m\u001b[43m)\u001b[49m\n\u001b[0;32m   1375\u001b[0m fold_coefs_, _, n_iter_ \u001b[38;5;241m=\u001b[39m \u001b[38;5;28mzip\u001b[39m(\u001b[38;5;241m*\u001b[39mfold_coefs_)\n\u001b[0;32m   1376\u001b[0m \u001b[38;5;28mself\u001b[39m\u001b[38;5;241m.\u001b[39mn_iter_ \u001b[38;5;241m=\u001b[39m np\u001b[38;5;241m.\u001b[39masarray(n_iter_, dtype\u001b[38;5;241m=\u001b[39mnp\u001b[38;5;241m.\u001b[39mint32)[:, \u001b[38;5;241m0\u001b[39m]\n",
      "File \u001b[1;32mc:\\Users\\Roi_f\\anaconda3\\envs\\personal\\Lib\\site-packages\\sklearn\\utils\\parallel.py:67\u001b[0m, in \u001b[0;36mParallel.__call__\u001b[1;34m(self, iterable)\u001b[0m\n\u001b[0;32m     62\u001b[0m config \u001b[38;5;241m=\u001b[39m get_config()\n\u001b[0;32m     63\u001b[0m iterable_with_config \u001b[38;5;241m=\u001b[39m (\n\u001b[0;32m     64\u001b[0m     (_with_config(delayed_func, config), args, kwargs)\n\u001b[0;32m     65\u001b[0m     \u001b[38;5;28;01mfor\u001b[39;00m delayed_func, args, kwargs \u001b[38;5;129;01min\u001b[39;00m iterable\n\u001b[0;32m     66\u001b[0m )\n\u001b[1;32m---> 67\u001b[0m \u001b[38;5;28;01mreturn\u001b[39;00m \u001b[38;5;28;43msuper\u001b[39;49m\u001b[43m(\u001b[49m\u001b[43m)\u001b[49m\u001b[38;5;241;43m.\u001b[39;49m\u001b[38;5;21;43m__call__\u001b[39;49m\u001b[43m(\u001b[49m\u001b[43miterable_with_config\u001b[49m\u001b[43m)\u001b[49m\n",
      "File \u001b[1;32mc:\\Users\\Roi_f\\anaconda3\\envs\\personal\\Lib\\site-packages\\joblib\\parallel.py:2007\u001b[0m, in \u001b[0;36mParallel.__call__\u001b[1;34m(self, iterable)\u001b[0m\n\u001b[0;32m   2001\u001b[0m \u001b[38;5;66;03m# The first item from the output is blank, but it makes the interpreter\u001b[39;00m\n\u001b[0;32m   2002\u001b[0m \u001b[38;5;66;03m# progress until it enters the Try/Except block of the generator and\u001b[39;00m\n\u001b[0;32m   2003\u001b[0m \u001b[38;5;66;03m# reaches the first `yield` statement. This starts the asynchronous\u001b[39;00m\n\u001b[0;32m   2004\u001b[0m \u001b[38;5;66;03m# dispatch of the tasks to the workers.\u001b[39;00m\n\u001b[0;32m   2005\u001b[0m \u001b[38;5;28mnext\u001b[39m(output)\n\u001b[1;32m-> 2007\u001b[0m \u001b[38;5;28;01mreturn\u001b[39;00m output \u001b[38;5;28;01mif\u001b[39;00m \u001b[38;5;28mself\u001b[39m\u001b[38;5;241m.\u001b[39mreturn_generator \u001b[38;5;28;01melse\u001b[39;00m \u001b[38;5;28;43mlist\u001b[39;49m\u001b[43m(\u001b[49m\u001b[43moutput\u001b[49m\u001b[43m)\u001b[49m\n",
      "File \u001b[1;32mc:\\Users\\Roi_f\\anaconda3\\envs\\personal\\Lib\\site-packages\\joblib\\parallel.py:1650\u001b[0m, in \u001b[0;36mParallel._get_outputs\u001b[1;34m(self, iterator, pre_dispatch)\u001b[0m\n\u001b[0;32m   1647\u001b[0m     \u001b[38;5;28;01myield\u001b[39;00m\n\u001b[0;32m   1649\u001b[0m     \u001b[38;5;28;01mwith\u001b[39;00m \u001b[38;5;28mself\u001b[39m\u001b[38;5;241m.\u001b[39m_backend\u001b[38;5;241m.\u001b[39mretrieval_context():\n\u001b[1;32m-> 1650\u001b[0m         \u001b[38;5;28;01myield from\u001b[39;00m \u001b[38;5;28mself\u001b[39m\u001b[38;5;241m.\u001b[39m_retrieve()\n\u001b[0;32m   1652\u001b[0m \u001b[38;5;28;01mexcept\u001b[39;00m \u001b[38;5;167;01mGeneratorExit\u001b[39;00m:\n\u001b[0;32m   1653\u001b[0m     \u001b[38;5;66;03m# The generator has been garbage collected before being fully\u001b[39;00m\n\u001b[0;32m   1654\u001b[0m     \u001b[38;5;66;03m# consumed. This aborts the remaining tasks if possible and warn\u001b[39;00m\n\u001b[0;32m   1655\u001b[0m     \u001b[38;5;66;03m# the user if necessary.\u001b[39;00m\n\u001b[0;32m   1656\u001b[0m     \u001b[38;5;28mself\u001b[39m\u001b[38;5;241m.\u001b[39m_exception \u001b[38;5;241m=\u001b[39m \u001b[38;5;28;01mTrue\u001b[39;00m\n",
      "File \u001b[1;32mc:\\Users\\Roi_f\\anaconda3\\envs\\personal\\Lib\\site-packages\\joblib\\parallel.py:1762\u001b[0m, in \u001b[0;36mParallel._retrieve\u001b[1;34m(self)\u001b[0m\n\u001b[0;32m   1757\u001b[0m \u001b[38;5;66;03m# If the next job is not ready for retrieval yet, we just wait for\u001b[39;00m\n\u001b[0;32m   1758\u001b[0m \u001b[38;5;66;03m# async callbacks to progress.\u001b[39;00m\n\u001b[0;32m   1759\u001b[0m \u001b[38;5;28;01mif\u001b[39;00m ((\u001b[38;5;28mlen\u001b[39m(\u001b[38;5;28mself\u001b[39m\u001b[38;5;241m.\u001b[39m_jobs) \u001b[38;5;241m==\u001b[39m \u001b[38;5;241m0\u001b[39m) \u001b[38;5;129;01mor\u001b[39;00m\n\u001b[0;32m   1760\u001b[0m     (\u001b[38;5;28mself\u001b[39m\u001b[38;5;241m.\u001b[39m_jobs[\u001b[38;5;241m0\u001b[39m]\u001b[38;5;241m.\u001b[39mget_status(\n\u001b[0;32m   1761\u001b[0m         timeout\u001b[38;5;241m=\u001b[39m\u001b[38;5;28mself\u001b[39m\u001b[38;5;241m.\u001b[39mtimeout) \u001b[38;5;241m==\u001b[39m TASK_PENDING)):\n\u001b[1;32m-> 1762\u001b[0m     time\u001b[38;5;241m.\u001b[39msleep(\u001b[38;5;241m0.01\u001b[39m)\n\u001b[0;32m   1763\u001b[0m     \u001b[38;5;28;01mcontinue\u001b[39;00m\n\u001b[0;32m   1765\u001b[0m \u001b[38;5;66;03m# We need to be careful: the job list can be filling up as\u001b[39;00m\n\u001b[0;32m   1766\u001b[0m \u001b[38;5;66;03m# we empty it and Python list are not thread-safe by\u001b[39;00m\n\u001b[0;32m   1767\u001b[0m \u001b[38;5;66;03m# default hence the use of the lock\u001b[39;00m\n",
      "\u001b[1;31mKeyboardInterrupt\u001b[0m: "
     ]
    },
    {
     "name": "stderr",
     "output_type": "stream",
     "text": [
      "c:\\Users\\Roi_f\\anaconda3\\envs\\personal\\Lib\\site-packages\\sklearn\\linear_model\\_sag.py:349: ConvergenceWarning: The max_iter was reached which means the coef_ did not converge\n",
      "  warnings.warn(\n"
     ]
    }
   ],
   "source": [
    "log_reg = LogisticRegression(multi_class='multinomial', solver='saga', max_iter=100, n_jobs=-1)\n",
    "log_reg.fit(X_train_scaled, y_train)\n",
    "\n",
    "y_pred = log_reg.predict(X_test_scaled)"
   ]
  },
  {
   "cell_type": "code",
   "execution_count": 48,
   "id": "c4f03b82",
   "metadata": {},
   "outputs": [
    {
     "name": "stdout",
     "output_type": "stream",
     "text": [
      "Accuracy de Logistic Regression: 0.8453\n"
     ]
    }
   ],
   "source": [
    "print(\"Accuracy de Logistic Regression:\", accuracy_score(y_test, y_pred))"
   ]
  },
  {
   "cell_type": "code",
   "execution_count": 50,
   "id": "61264d11",
   "metadata": {},
   "outputs": [
    {
     "name": "stdout",
     "output_type": "stream",
     "text": [
      "Reporte de Logistic Regression:\n",
      "               precision    recall  f1-score   support\n",
      "\n",
      "           0       0.82      0.82      0.82      1000\n",
      "           1       0.98      0.95      0.97      1000\n",
      "           2       0.73      0.74      0.74      1000\n",
      "           3       0.83      0.87      0.85      1000\n",
      "           4       0.73      0.76      0.74      1000\n",
      "           5       0.93      0.92      0.93      1000\n",
      "           6       0.63      0.57      0.60      1000\n",
      "           7       0.90      0.93      0.92      1000\n",
      "           8       0.95      0.94      0.94      1000\n",
      "           9       0.94      0.94      0.94      1000\n",
      "\n",
      "    accuracy                           0.85     10000\n",
      "   macro avg       0.84      0.85      0.84     10000\n",
      "weighted avg       0.84      0.85      0.84     10000\n",
      "\n"
     ]
    }
   ],
   "source": [
    "print(\"Reporte de Logistic Regression:\\n\", classification_report(y_test, y_pred))"
   ]
  },
  {
   "cell_type": "markdown",
   "id": "9331f0d1",
   "metadata": {},
   "source": [
    "___"
   ]
  },
  {
   "cell_type": "markdown",
   "id": "ab5aed80",
   "metadata": {},
   "source": [
    "# SVM"
   ]
  },
  {
   "cell_type": "code",
   "execution_count": 7,
   "id": "9609b8ce",
   "metadata": {},
   "outputs": [],
   "source": [
    "from sklearn.svm import SVC"
   ]
  },
  {
   "cell_type": "code",
   "execution_count": 8,
   "id": "8d365330",
   "metadata": {},
   "outputs": [],
   "source": [
    "svc = SVC(\n",
    "    C= 1.0, kernel= 'rbf', gamma='auto', max_iter= 10000,\n",
    "    random_state= 19, \n",
    "    )"
   ]
  },
  {
   "cell_type": "code",
   "execution_count": 31,
   "id": "ef1779ac",
   "metadata": {},
   "outputs": [
    {
     "data": {
      "text/html": [
       "<style>#sk-container-id-3 {color: black;background-color: white;}#sk-container-id-3 pre{padding: 0;}#sk-container-id-3 div.sk-toggleable {background-color: white;}#sk-container-id-3 label.sk-toggleable__label {cursor: pointer;display: block;width: 100%;margin-bottom: 0;padding: 0.3em;box-sizing: border-box;text-align: center;}#sk-container-id-3 label.sk-toggleable__label-arrow:before {content: \"▸\";float: left;margin-right: 0.25em;color: #696969;}#sk-container-id-3 label.sk-toggleable__label-arrow:hover:before {color: black;}#sk-container-id-3 div.sk-estimator:hover label.sk-toggleable__label-arrow:before {color: black;}#sk-container-id-3 div.sk-toggleable__content {max-height: 0;max-width: 0;overflow: hidden;text-align: left;background-color: #f0f8ff;}#sk-container-id-3 div.sk-toggleable__content pre {margin: 0.2em;color: black;border-radius: 0.25em;background-color: #f0f8ff;}#sk-container-id-3 input.sk-toggleable__control:checked~div.sk-toggleable__content {max-height: 200px;max-width: 100%;overflow: auto;}#sk-container-id-3 input.sk-toggleable__control:checked~label.sk-toggleable__label-arrow:before {content: \"▾\";}#sk-container-id-3 div.sk-estimator input.sk-toggleable__control:checked~label.sk-toggleable__label {background-color: #d4ebff;}#sk-container-id-3 div.sk-label input.sk-toggleable__control:checked~label.sk-toggleable__label {background-color: #d4ebff;}#sk-container-id-3 input.sk-hidden--visually {border: 0;clip: rect(1px 1px 1px 1px);clip: rect(1px, 1px, 1px, 1px);height: 1px;margin: -1px;overflow: hidden;padding: 0;position: absolute;width: 1px;}#sk-container-id-3 div.sk-estimator {font-family: monospace;background-color: #f0f8ff;border: 1px dotted black;border-radius: 0.25em;box-sizing: border-box;margin-bottom: 0.5em;}#sk-container-id-3 div.sk-estimator:hover {background-color: #d4ebff;}#sk-container-id-3 div.sk-parallel-item::after {content: \"\";width: 100%;border-bottom: 1px solid gray;flex-grow: 1;}#sk-container-id-3 div.sk-label:hover label.sk-toggleable__label {background-color: #d4ebff;}#sk-container-id-3 div.sk-serial::before {content: \"\";position: absolute;border-left: 1px solid gray;box-sizing: border-box;top: 0;bottom: 0;left: 50%;z-index: 0;}#sk-container-id-3 div.sk-serial {display: flex;flex-direction: column;align-items: center;background-color: white;padding-right: 0.2em;padding-left: 0.2em;position: relative;}#sk-container-id-3 div.sk-item {position: relative;z-index: 1;}#sk-container-id-3 div.sk-parallel {display: flex;align-items: stretch;justify-content: center;background-color: white;position: relative;}#sk-container-id-3 div.sk-item::before, #sk-container-id-3 div.sk-parallel-item::before {content: \"\";position: absolute;border-left: 1px solid gray;box-sizing: border-box;top: 0;bottom: 0;left: 50%;z-index: -1;}#sk-container-id-3 div.sk-parallel-item {display: flex;flex-direction: column;z-index: 1;position: relative;background-color: white;}#sk-container-id-3 div.sk-parallel-item:first-child::after {align-self: flex-end;width: 50%;}#sk-container-id-3 div.sk-parallel-item:last-child::after {align-self: flex-start;width: 50%;}#sk-container-id-3 div.sk-parallel-item:only-child::after {width: 0;}#sk-container-id-3 div.sk-dashed-wrapped {border: 1px dashed gray;margin: 0 0.4em 0.5em 0.4em;box-sizing: border-box;padding-bottom: 0.4em;background-color: white;}#sk-container-id-3 div.sk-label label {font-family: monospace;font-weight: bold;display: inline-block;line-height: 1.2em;}#sk-container-id-3 div.sk-label-container {text-align: center;}#sk-container-id-3 div.sk-container {/* jupyter's `normalize.less` sets `[hidden] { display: none; }` but bootstrap.min.css set `[hidden] { display: none !important; }` so we also need the `!important` here to be able to override the default hidden behavior on the sphinx rendered scikit-learn.org. See: https://github.com/scikit-learn/scikit-learn/issues/21755 */display: inline-block !important;position: relative;}#sk-container-id-3 div.sk-text-repr-fallback {display: none;}</style><div id=\"sk-container-id-3\" class=\"sk-top-container\"><div class=\"sk-text-repr-fallback\"><pre>SVC(gamma=&#x27;auto&#x27;, max_iter=10000, random_state=19)</pre><b>In a Jupyter environment, please rerun this cell to show the HTML representation or trust the notebook. <br />On GitHub, the HTML representation is unable to render, please try loading this page with nbviewer.org.</b></div><div class=\"sk-container\" hidden><div class=\"sk-item\"><div class=\"sk-estimator sk-toggleable\"><input class=\"sk-toggleable__control sk-hidden--visually\" id=\"sk-estimator-id-3\" type=\"checkbox\" checked><label for=\"sk-estimator-id-3\" class=\"sk-toggleable__label sk-toggleable__label-arrow\">SVC</label><div class=\"sk-toggleable__content\"><pre>SVC(gamma=&#x27;auto&#x27;, max_iter=10000, random_state=19)</pre></div></div></div></div></div>"
      ],
      "text/plain": [
       "SVC(gamma='auto', max_iter=10000, random_state=19)"
      ]
     },
     "execution_count": 31,
     "metadata": {},
     "output_type": "execute_result"
    }
   ],
   "source": [
    "svc.fit(X_train_scaled, y_train)"
   ]
  },
  {
   "cell_type": "code",
   "execution_count": 32,
   "id": "1af6a5b2",
   "metadata": {},
   "outputs": [],
   "source": [
    "y_pred = svc.predict(X_test_scaled)"
   ]
  },
  {
   "cell_type": "code",
   "execution_count": 39,
   "id": "cc4aa53d",
   "metadata": {},
   "outputs": [
    {
     "name": "stdout",
     "output_type": "stream",
     "text": [
      "Accuracy de SVC: 0.8836\n"
     ]
    }
   ],
   "source": [
    "print(\"Accuracy de SVC:\", accuracy_score(y_test, y_pred))"
   ]
  },
  {
   "cell_type": "code",
   "execution_count": 40,
   "id": "4660429c",
   "metadata": {},
   "outputs": [
    {
     "name": "stdout",
     "output_type": "stream",
     "text": [
      "Reporte de SVC:\n",
      "               precision    recall  f1-score   support\n",
      "\n",
      "           0       0.82      0.86      0.84      1000\n",
      "           1       0.99      0.96      0.98      1000\n",
      "           2       0.80      0.81      0.81      1000\n",
      "           3       0.87      0.89      0.88      1000\n",
      "           4       0.80      0.82      0.81      1000\n",
      "           5       0.97      0.96      0.96      1000\n",
      "           6       0.72      0.65      0.68      1000\n",
      "           7       0.93      0.96      0.95      1000\n",
      "           8       0.95      0.97      0.96      1000\n",
      "           9       0.96      0.95      0.96      1000\n",
      "\n",
      "    accuracy                           0.88     10000\n",
      "   macro avg       0.88      0.88      0.88     10000\n",
      "weighted avg       0.88      0.88      0.88     10000\n",
      "\n"
     ]
    }
   ],
   "source": [
    "print(\"Reporte de SVC:\\n\", classification_report(y_test, y_pred))"
   ]
  },
  {
   "cell_type": "code",
   "execution_count": 37,
   "id": "4f5542d7",
   "metadata": {},
   "outputs": [
    {
     "data": {
      "image/png": "[encoded data removed]",
      "text/plain": [
       "<Figure size 600x400 with 2 Axes>"
      ]
     },
     "metadata": {},
     "output_type": "display_data"
    }
   ],
   "source": [
    "confusion_mtx_svc = confusion_matrix(y_test, y_pred)\n",
    "\n",
    "plt.figure(figsize=(6, 4))\n",
    "plt.imshow(confusion_mtx_svc)\n",
    "plt.title('Matriz de Confusión - Support Vector Classifier')\n",
    "plt.xlabel('Etiqueta Predicha')\n",
    "plt.ylabel('Etiqueta Verdadera')\n",
    "plt.colorbar()\n",
    "plt.tight_layout()\n",
    "plt.show()    "
   ]
  },
  {
   "cell_type": "markdown",
   "id": "1c5416f2",
   "metadata": {},
   "source": [
    "___"
   ]
  },
  {
   "cell_type": "markdown",
   "id": "b966bef4",
   "metadata": {},
   "source": [
    "# Random Forest"
   ]
  },
  {
   "cell_type": "code",
   "execution_count": null,
   "id": "7d06f26e",
   "metadata": {},
   "outputs": [],
   "source": [
    "from sklearn.ensemble import RandomForestClassifier"
   ]
  },
  {
   "cell_type": "code",
   "execution_count": 9,
   "id": "93e8bc28",
   "metadata": {},
   "outputs": [],
   "source": [
    "rfc = RandomForestClassifier(\n",
    "    criterion= 'entropy', n_estimators=100, \n",
    "    random_state= 19 \n",
    ")"
   ]
  },
  {
   "cell_type": "code",
   "execution_count": 43,
   "id": "bfb1ddc1",
   "metadata": {},
   "outputs": [
    {
     "data": {
      "text/html": [
       "<style>#sk-container-id-4 {color: black;background-color: white;}#sk-container-id-4 pre{padding: 0;}#sk-container-id-4 div.sk-toggleable {background-color: white;}#sk-container-id-4 label.sk-toggleable__label {cursor: pointer;display: block;width: 100%;margin-bottom: 0;padding: 0.3em;box-sizing: border-box;text-align: center;}#sk-container-id-4 label.sk-toggleable__label-arrow:before {content: \"▸\";float: left;margin-right: 0.25em;color: #696969;}#sk-container-id-4 label.sk-toggleable__label-arrow:hover:before {color: black;}#sk-container-id-4 div.sk-estimator:hover label.sk-toggleable__label-arrow:before {color: black;}#sk-container-id-4 div.sk-toggleable__content {max-height: 0;max-width: 0;overflow: hidden;text-align: left;background-color: #f0f8ff;}#sk-container-id-4 div.sk-toggleable__content pre {margin: 0.2em;color: black;border-radius: 0.25em;background-color: #f0f8ff;}#sk-container-id-4 input.sk-toggleable__control:checked~div.sk-toggleable__content {max-height: 200px;max-width: 100%;overflow: auto;}#sk-container-id-4 input.sk-toggleable__control:checked~label.sk-toggleable__label-arrow:before {content: \"▾\";}#sk-container-id-4 div.sk-estimator input.sk-toggleable__control:checked~label.sk-toggleable__label {background-color: #d4ebff;}#sk-container-id-4 div.sk-label input.sk-toggleable__control:checked~label.sk-toggleable__label {background-color: #d4ebff;}#sk-container-id-4 input.sk-hidden--visually {border: 0;clip: rect(1px 1px 1px 1px);clip: rect(1px, 1px, 1px, 1px);height: 1px;margin: -1px;overflow: hidden;padding: 0;position: absolute;width: 1px;}#sk-container-id-4 div.sk-estimator {font-family: monospace;background-color: #f0f8ff;border: 1px dotted black;border-radius: 0.25em;box-sizing: border-box;margin-bottom: 0.5em;}#sk-container-id-4 div.sk-estimator:hover {background-color: #d4ebff;}#sk-container-id-4 div.sk-parallel-item::after {content: \"\";width: 100%;border-bottom: 1px solid gray;flex-grow: 1;}#sk-container-id-4 div.sk-label:hover label.sk-toggleable__label {background-color: #d4ebff;}#sk-container-id-4 div.sk-serial::before {content: \"\";position: absolute;border-left: 1px solid gray;box-sizing: border-box;top: 0;bottom: 0;left: 50%;z-index: 0;}#sk-container-id-4 div.sk-serial {display: flex;flex-direction: column;align-items: center;background-color: white;padding-right: 0.2em;padding-left: 0.2em;position: relative;}#sk-container-id-4 div.sk-item {position: relative;z-index: 1;}#sk-container-id-4 div.sk-parallel {display: flex;align-items: stretch;justify-content: center;background-color: white;position: relative;}#sk-container-id-4 div.sk-item::before, #sk-container-id-4 div.sk-parallel-item::before {content: \"\";position: absolute;border-left: 1px solid gray;box-sizing: border-box;top: 0;bottom: 0;left: 50%;z-index: -1;}#sk-container-id-4 div.sk-parallel-item {display: flex;flex-direction: column;z-index: 1;position: relative;background-color: white;}#sk-container-id-4 div.sk-parallel-item:first-child::after {align-self: flex-end;width: 50%;}#sk-container-id-4 div.sk-parallel-item:last-child::after {align-self: flex-start;width: 50%;}#sk-container-id-4 div.sk-parallel-item:only-child::after {width: 0;}#sk-container-id-4 div.sk-dashed-wrapped {border: 1px dashed gray;margin: 0 0.4em 0.5em 0.4em;box-sizing: border-box;padding-bottom: 0.4em;background-color: white;}#sk-container-id-4 div.sk-label label {font-family: monospace;font-weight: bold;display: inline-block;line-height: 1.2em;}#sk-container-id-4 div.sk-label-container {text-align: center;}#sk-container-id-4 div.sk-container {/* jupyter's `normalize.less` sets `[hidden] { display: none; }` but bootstrap.min.css set `[hidden] { display: none !important; }` so we also need the `!important` here to be able to override the default hidden behavior on the sphinx rendered scikit-learn.org. See: https://github.com/scikit-learn/scikit-learn/issues/21755 */display: inline-block !important;position: relative;}#sk-container-id-4 div.sk-text-repr-fallback {display: none;}</style><div id=\"sk-container-id-4\" class=\"sk-top-container\"><div class=\"sk-text-repr-fallback\"><pre>RandomForestClassifier(criterion=&#x27;entropy&#x27;, random_state=19)</pre><b>In a Jupyter environment, please rerun this cell to show the HTML representation or trust the notebook. <br />On GitHub, the HTML representation is unable to render, please try loading this page with nbviewer.org.</b></div><div class=\"sk-container\" hidden><div class=\"sk-item\"><div class=\"sk-estimator sk-toggleable\"><input class=\"sk-toggleable__control sk-hidden--visually\" id=\"sk-estimator-id-4\" type=\"checkbox\" checked><label for=\"sk-estimator-id-4\" class=\"sk-toggleable__label sk-toggleable__label-arrow\">RandomForestClassifier</label><div class=\"sk-toggleable__content\"><pre>RandomForestClassifier(criterion=&#x27;entropy&#x27;, random_state=19)</pre></div></div></div></div></div>"
      ],
      "text/plain": [
       "RandomForestClassifier(criterion='entropy', random_state=19)"
      ]
     },
     "execution_count": 43,
     "metadata": {},
     "output_type": "execute_result"
    }
   ],
   "source": [
    "rfc.fit(X_train_scaled, y_train)"
   ]
  },
  {
   "cell_type": "code",
   "execution_count": 44,
   "id": "2b34d251",
   "metadata": {},
   "outputs": [],
   "source": [
    "y_pred = rfc.predict(X_test_scaled)"
   ]
  },
  {
   "cell_type": "code",
   "execution_count": 45,
   "id": "42c8c885",
   "metadata": {},
   "outputs": [
    {
     "name": "stdout",
     "output_type": "stream",
     "text": [
      "Accuracy de Random Forest: 0.8762\n"
     ]
    }
   ],
   "source": [
    "print(\"Accuracy de Random Forest:\", accuracy_score(y_test, y_pred))"
   ]
  },
  {
   "cell_type": "code",
   "execution_count": 46,
   "id": "ff5bf511",
   "metadata": {},
   "outputs": [
    {
     "name": "stdout",
     "output_type": "stream",
     "text": [
      "Reporte de Random Forest:\n",
      "               precision    recall  f1-score   support\n",
      "\n",
      "           0       0.81      0.86      0.84      1000\n",
      "           1       0.99      0.96      0.98      1000\n",
      "           2       0.76      0.80      0.78      1000\n",
      "           3       0.88      0.91      0.89      1000\n",
      "           4       0.77      0.81      0.79      1000\n",
      "           5       0.98      0.96      0.97      1000\n",
      "           6       0.73      0.59      0.65      1000\n",
      "           7       0.93      0.95      0.94      1000\n",
      "           8       0.95      0.97      0.96      1000\n",
      "           9       0.95      0.95      0.95      1000\n",
      "\n",
      "    accuracy                           0.88     10000\n",
      "   macro avg       0.88      0.88      0.87     10000\n",
      "weighted avg       0.88      0.88      0.87     10000\n",
      "\n"
     ]
    }
   ],
   "source": [
    "print(\"Reporte de Random Forest:\\n\", classification_report(y_test, y_pred))"
   ]
  },
  {
   "cell_type": "code",
   "execution_count": 47,
   "id": "5628123a",
   "metadata": {},
   "outputs": [
    {
     "data": {
      "image/png": "[encoded data removed]",
      "text/plain": [
       "<Figure size 600x400 with 2 Axes>"
      ]
     },
     "metadata": {},
     "output_type": "display_data"
    }
   ],
   "source": [
    "confusion_mtx_rfc = confusion_matrix(y_test, y_pred)\n",
    "\n",
    "plt.figure(figsize=(6, 4))\n",
    "plt.imshow(confusion_mtx_rfc)\n",
    "plt.title('Matriz de Confusión - Random Forest')\n",
    "plt.xlabel('Etiqueta Predicha')\n",
    "plt.ylabel('Etiqueta Verdadera')\n",
    "plt.colorbar()\n",
    "plt.tight_layout()\n",
    "plt.show()    "
   ]
  },
  {
   "cell_type": "markdown",
   "id": "6048b41d",
   "metadata": {},
   "source": [
    "___"
   ]
  },
  {
   "cell_type": "markdown",
   "id": "827c5697",
   "metadata": {},
   "source": [
    "# Neural Network (MLP)"
   ]
  },
  {
   "cell_type": "markdown",
   "id": "5276339e",
   "metadata": {},
   "source": [
    "___"
   ]
  },
  {
   "cell_type": "markdown",
   "id": "98bdd6f2",
   "metadata": {},
   "source": [
    "# Convolutional Neural Network (CNN)"
   ]
  },
  {
   "cell_type": "code",
   "execution_count": 36,
   "id": "eeb973e3",
   "metadata": {},
   "outputs": [],
   "source": [
    "import tensorflow as tf\n",
    "from tensorflow import keras\n",
    "from tensorflow.keras import layers\n",
    "\n",
    "from sklearn.model_selection import train_test_split"
   ]
  },
  {
   "cell_type": "markdown",
   "id": "fd2ab03f",
   "metadata": {},
   "source": [
    "### Convolutional Neural Network architecture"
   ]
  },
  {
   "cell_type": "code",
   "execution_count": null,
   "id": "12ff8059",
   "metadata": {},
   "outputs": [
    {
     "name": "stderr",
     "output_type": "stream",
     "text": [
      "c:\\Users\\Roi_f\\anaconda3\\envs\\personal\\Lib\\site-packages\\keras\\src\\layers\\convolutional\\base_conv.py:107: UserWarning: Do not pass an `input_shape`/`input_dim` argument to a layer. When using Sequential models, prefer using an `Input(shape)` object as the first layer in the model instead.\n",
      "  super().__init__(activity_regularizer=activity_regularizer, **kwargs)\n"
     ]
    },
    {
     "data": {
      "text/html": [
       "<pre style=\"white-space:pre;overflow-x:auto;line-height:normal;font-family:Menlo,'DejaVu Sans Mono',consolas,'Courier New',monospace\"><span style=\"font-weight: bold\">Model: \"sequential_5\"</span>\n",
       "</pre>\n"
      ],
      "text/plain": [
       "\u001b[1mModel: \"sequential_5\"\u001b[0m\n"
      ]
     },
     "metadata": {},
     "output_type": "display_data"
    },
    {
     "data": {
      "text/html": [
       "<pre style=\"white-space:pre;overflow-x:auto;line-height:normal;font-family:Menlo,'DejaVu Sans Mono',consolas,'Courier New',monospace\">┏━━━━━━━━━━━━━━━━━━━━━━━━━━━━━━━━━┳━━━━━━━━━━━━━━━━━━━━━━━━┳━━━━━━━━━━━━━━━┓\n",
       "┃<span style=\"font-weight: bold\"> Layer (type)                    </span>┃<span style=\"font-weight: bold\"> Output Shape           </span>┃<span style=\"font-weight: bold\">       Param # </span>┃\n",
       "┡━━━━━━━━━━━━━━━━━━━━━━━━━━━━━━━━━╇━━━━━━━━━━━━━━━━━━━━━━━━╇━━━━━━━━━━━━━━━┩\n",
       "│ conv2d_5 (<span style=\"color: #0087ff; text-decoration-color: #0087ff\">Conv2D</span>)               │ (<span style=\"color: #00d7ff; text-decoration-color: #00d7ff\">None</span>, <span style=\"color: #00af00; text-decoration-color: #00af00\">26</span>, <span style=\"color: #00af00; text-decoration-color: #00af00\">26</span>, <span style=\"color: #00af00; text-decoration-color: #00af00\">32</span>)     │           <span style=\"color: #00af00; text-decoration-color: #00af00\">320</span> │\n",
       "├─────────────────────────────────┼────────────────────────┼───────────────┤\n",
       "│ max_pooling2d_5 (<span style=\"color: #0087ff; text-decoration-color: #0087ff\">MaxPooling2D</span>)  │ (<span style=\"color: #00d7ff; text-decoration-color: #00d7ff\">None</span>, <span style=\"color: #00af00; text-decoration-color: #00af00\">13</span>, <span style=\"color: #00af00; text-decoration-color: #00af00\">13</span>, <span style=\"color: #00af00; text-decoration-color: #00af00\">32</span>)     │             <span style=\"color: #00af00; text-decoration-color: #00af00\">0</span> │\n",
       "├─────────────────────────────────┼────────────────────────┼───────────────┤\n",
       "│ conv2d_6 (<span style=\"color: #0087ff; text-decoration-color: #0087ff\">Conv2D</span>)               │ (<span style=\"color: #00d7ff; text-decoration-color: #00d7ff\">None</span>, <span style=\"color: #00af00; text-decoration-color: #00af00\">11</span>, <span style=\"color: #00af00; text-decoration-color: #00af00\">11</span>, <span style=\"color: #00af00; text-decoration-color: #00af00\">64</span>)     │        <span style=\"color: #00af00; text-decoration-color: #00af00\">18,496</span> │\n",
       "├─────────────────────────────────┼────────────────────────┼───────────────┤\n",
       "│ max_pooling2d_6 (<span style=\"color: #0087ff; text-decoration-color: #0087ff\">MaxPooling2D</span>)  │ (<span style=\"color: #00d7ff; text-decoration-color: #00d7ff\">None</span>, <span style=\"color: #00af00; text-decoration-color: #00af00\">5</span>, <span style=\"color: #00af00; text-decoration-color: #00af00\">5</span>, <span style=\"color: #00af00; text-decoration-color: #00af00\">64</span>)       │             <span style=\"color: #00af00; text-decoration-color: #00af00\">0</span> │\n",
       "├─────────────────────────────────┼────────────────────────┼───────────────┤\n",
       "│ conv2d_7 (<span style=\"color: #0087ff; text-decoration-color: #0087ff\">Conv2D</span>)               │ (<span style=\"color: #00d7ff; text-decoration-color: #00d7ff\">None</span>, <span style=\"color: #00af00; text-decoration-color: #00af00\">3</span>, <span style=\"color: #00af00; text-decoration-color: #00af00\">3</span>, <span style=\"color: #00af00; text-decoration-color: #00af00\">64</span>)       │        <span style=\"color: #00af00; text-decoration-color: #00af00\">36,928</span> │\n",
       "├─────────────────────────────────┼────────────────────────┼───────────────┤\n",
       "│ flatten_5 (<span style=\"color: #0087ff; text-decoration-color: #0087ff\">Flatten</span>)             │ (<span style=\"color: #00d7ff; text-decoration-color: #00d7ff\">None</span>, <span style=\"color: #00af00; text-decoration-color: #00af00\">576</span>)            │             <span style=\"color: #00af00; text-decoration-color: #00af00\">0</span> │\n",
       "├─────────────────────────────────┼────────────────────────┼───────────────┤\n",
       "│ dense_10 (<span style=\"color: #0087ff; text-decoration-color: #0087ff\">Dense</span>)                │ (<span style=\"color: #00d7ff; text-decoration-color: #00d7ff\">None</span>, <span style=\"color: #00af00; text-decoration-color: #00af00\">64</span>)             │        <span style=\"color: #00af00; text-decoration-color: #00af00\">36,928</span> │\n",
       "├─────────────────────────────────┼────────────────────────┼───────────────┤\n",
       "│ dense_11 (<span style=\"color: #0087ff; text-decoration-color: #0087ff\">Dense</span>)                │ (<span style=\"color: #00d7ff; text-decoration-color: #00d7ff\">None</span>, <span style=\"color: #00af00; text-decoration-color: #00af00\">10</span>)             │           <span style=\"color: #00af00; text-decoration-color: #00af00\">650</span> │\n",
       "└─────────────────────────────────┴────────────────────────┴───────────────┘\n",
       "</pre>\n"
      ],
      "text/plain": [
       "┏━━━━━━━━━━━━━━━━━━━━━━━━━━━━━━━━━┳━━━━━━━━━━━━━━━━━━━━━━━━┳━━━━━━━━━━━━━━━┓\n",
       "┃\u001b[1m \u001b[0m\u001b[1mLayer (type)                   \u001b[0m\u001b[1m \u001b[0m┃\u001b[1m \u001b[0m\u001b[1mOutput Shape          \u001b[0m\u001b[1m \u001b[0m┃\u001b[1m \u001b[0m\u001b[1m      Param #\u001b[0m\u001b[1m \u001b[0m┃\n",
       "┡━━━━━━━━━━━━━━━━━━━━━━━━━━━━━━━━━╇━━━━━━━━━━━━━━━━━━━━━━━━╇━━━━━━━━━━━━━━━┩\n",
       "│ conv2d_5 (\u001b[38;5;33mConv2D\u001b[0m)               │ (\u001b[38;5;45mNone\u001b[0m, \u001b[38;5;34m26\u001b[0m, \u001b[38;5;34m26\u001b[0m, \u001b[38;5;34m32\u001b[0m)     │           \u001b[38;5;34m320\u001b[0m │\n",
       "├─────────────────────────────────┼────────────────────────┼───────────────┤\n",
       "│ max_pooling2d_5 (\u001b[38;5;33mMaxPooling2D\u001b[0m)  │ (\u001b[38;5;45mNone\u001b[0m, \u001b[38;5;34m13\u001b[0m, \u001b[38;5;34m13\u001b[0m, \u001b[38;5;34m32\u001b[0m)     │             \u001b[38;5;34m0\u001b[0m │\n",
       "├─────────────────────────────────┼────────────────────────┼───────────────┤\n",
       "│ conv2d_6 (\u001b[38;5;33mConv2D\u001b[0m)               │ (\u001b[38;5;45mNone\u001b[0m, \u001b[38;5;34m11\u001b[0m, \u001b[38;5;34m11\u001b[0m, \u001b[38;5;34m64\u001b[0m)     │        \u001b[38;5;34m18,496\u001b[0m │\n",
       "├─────────────────────────────────┼────────────────────────┼───────────────┤\n",
       "│ max_pooling2d_6 (\u001b[38;5;33mMaxPooling2D\u001b[0m)  │ (\u001b[38;5;45mNone\u001b[0m, \u001b[38;5;34m5\u001b[0m, \u001b[38;5;34m5\u001b[0m, \u001b[38;5;34m64\u001b[0m)       │             \u001b[38;5;34m0\u001b[0m │\n",
       "├─────────────────────────────────┼────────────────────────┼───────────────┤\n",
       "│ conv2d_7 (\u001b[38;5;33mConv2D\u001b[0m)               │ (\u001b[38;5;45mNone\u001b[0m, \u001b[38;5;34m3\u001b[0m, \u001b[38;5;34m3\u001b[0m, \u001b[38;5;34m64\u001b[0m)       │        \u001b[38;5;34m36,928\u001b[0m │\n",
       "├─────────────────────────────────┼────────────────────────┼───────────────┤\n",
       "│ flatten_5 (\u001b[38;5;33mFlatten\u001b[0m)             │ (\u001b[38;5;45mNone\u001b[0m, \u001b[38;5;34m576\u001b[0m)            │             \u001b[38;5;34m0\u001b[0m │\n",
       "├─────────────────────────────────┼────────────────────────┼───────────────┤\n",
       "│ dense_10 (\u001b[38;5;33mDense\u001b[0m)                │ (\u001b[38;5;45mNone\u001b[0m, \u001b[38;5;34m64\u001b[0m)             │        \u001b[38;5;34m36,928\u001b[0m │\n",
       "├─────────────────────────────────┼────────────────────────┼───────────────┤\n",
       "│ dense_11 (\u001b[38;5;33mDense\u001b[0m)                │ (\u001b[38;5;45mNone\u001b[0m, \u001b[38;5;34m10\u001b[0m)             │           \u001b[38;5;34m650\u001b[0m │\n",
       "└─────────────────────────────────┴────────────────────────┴───────────────┘\n"
      ]
     },
     "metadata": {},
     "output_type": "display_data"
    },
    {
     "data": {
      "text/html": [
       "<pre style=\"white-space:pre;overflow-x:auto;line-height:normal;font-family:Menlo,'DejaVu Sans Mono',consolas,'Courier New',monospace\"><span style=\"font-weight: bold\"> Total params: </span><span style=\"color: #00af00; text-decoration-color: #00af00\">93,322</span> (364.54 KB)\n",
       "</pre>\n"
      ],
      "text/plain": [
       "\u001b[1m Total params: \u001b[0m\u001b[38;5;34m93,322\u001b[0m (364.54 KB)\n"
      ]
     },
     "metadata": {},
     "output_type": "display_data"
    },
    {
     "data": {
      "text/html": [
       "<pre style=\"white-space:pre;overflow-x:auto;line-height:normal;font-family:Menlo,'DejaVu Sans Mono',consolas,'Courier New',monospace\"><span style=\"font-weight: bold\"> Trainable params: </span><span style=\"color: #00af00; text-decoration-color: #00af00\">93,322</span> (364.54 KB)\n",
       "</pre>\n"
      ],
      "text/plain": [
       "\u001b[1m Trainable params: \u001b[0m\u001b[38;5;34m93,322\u001b[0m (364.54 KB)\n"
      ]
     },
     "metadata": {},
     "output_type": "display_data"
    },
    {
     "data": {
      "text/html": [
       "<pre style=\"white-space:pre;overflow-x:auto;line-height:normal;font-family:Menlo,'DejaVu Sans Mono',consolas,'Courier New',monospace\"><span style=\"font-weight: bold\"> Non-trainable params: </span><span style=\"color: #00af00; text-decoration-color: #00af00\">0</span> (0.00 B)\n",
       "</pre>\n"
      ],
      "text/plain": [
       "\u001b[1m Non-trainable params: \u001b[0m\u001b[38;5;34m0\u001b[0m (0.00 B)\n"
      ]
     },
     "metadata": {},
     "output_type": "display_data"
    }
   ],
   "source": [
    "cnn = keras.models.Sequential([\n",
    "    layers.Conv2D(32, (3, 3), activation=\"relu\", input_shape=(28, 28, 1)), # First Convolutional layer (32 features, 3x3 convloution window)\n",
    "    layers.MaxPooling2D((2,2)), # 2x2 Filter Window \n",
    "    \n",
    "    layers.Conv2D(64, (3, 3), activation=\"relu\"), # Second Convolutional layer (64 features, 3x3 concolution window)\n",
    "    layers.MaxPooling2D((2,2)),\n",
    "    \n",
    "    layers.Conv2D(64, (3,3), activation=\"relu\"), # Third Convolutional Layer (64 features, 3x3 convolution window)\n",
    "    \n",
    "    layers.Flatten(), # Data gets flattened into 1 dimension\n",
    "    \n",
    "    layers.Dense(64, activation=\"relu\"), # Fully connected layer with 64 neurons \n",
    "    layers.Dense(10, activation=\"softmax\") # Output layer with 10 output neurons (1 for each class)\n",
    "])\n",
    "\n",
    "cnn.summary()"
   ]
  },
  {
   "cell_type": "markdown",
   "id": "71b551d1",
   "metadata": {},
   "source": [
    "He have a total of 93,322 parameters and a total 8 layers (including input and output)"
   ]
  },
  {
   "cell_type": "code",
   "execution_count": 46,
   "id": "26eb64f7",
   "metadata": {},
   "outputs": [],
   "source": [
    "cnn.compile(loss=\"sparse_categorical_crossentropy\", optimizer=\"sgd\", metrics=[\"accuracy\"])\n",
    "\n",
    "X_train_cnn, X_val, y_train_cnn, y_val = train_test_split(X_train, y_train, stratify=y_train, random_state=11)"
   ]
  },
  {
   "cell_type": "markdown",
   "id": "0dfea6b4",
   "metadata": {},
   "source": [
    "We create a validation set to constantly check the accuracy of the neural network"
   ]
  },
  {
   "cell_type": "code",
   "execution_count": 47,
   "id": "a8ba16ec",
   "metadata": {},
   "outputs": [
    {
     "name": "stdout",
     "output_type": "stream",
     "text": [
      "Epoch 1/25\n",
      "\u001b[1m1875/1875\u001b[0m \u001b[32m━━━━━━━━━━━━━━━━━━━━\u001b[0m\u001b[37m\u001b[0m \u001b[1m23s\u001b[0m 12ms/step - accuracy: 0.6995 - loss: 1.1222 - val_accuracy: 0.8522 - val_loss: 0.4138\n",
      "Epoch 2/25\n",
      "\u001b[1m1875/1875\u001b[0m \u001b[32m━━━━━━━━━━━━━━━━━━━━\u001b[0m\u001b[37m\u001b[0m \u001b[1m21s\u001b[0m 11ms/step - accuracy: 0.8514 - loss: 0.4099 - val_accuracy: 0.8746 - val_loss: 0.3537\n",
      "Epoch 3/25\n",
      "\u001b[1m1875/1875\u001b[0m \u001b[32m━━━━━━━━━━━━━━━━━━━━\u001b[0m\u001b[37m\u001b[0m \u001b[1m21s\u001b[0m 11ms/step - accuracy: 0.8712 - loss: 0.3590 - val_accuracy: 0.8836 - val_loss: 0.3256\n",
      "Epoch 4/25\n",
      "\u001b[1m1875/1875\u001b[0m \u001b[32m━━━━━━━━━━━━━━━━━━━━\u001b[0m\u001b[37m\u001b[0m \u001b[1m20s\u001b[0m 11ms/step - accuracy: 0.8825 - loss: 0.3188 - val_accuracy: 0.8867 - val_loss: 0.3092\n",
      "Epoch 5/25\n",
      "\u001b[1m1875/1875\u001b[0m \u001b[32m━━━━━━━━━━━━━━━━━━━━\u001b[0m\u001b[37m\u001b[0m \u001b[1m21s\u001b[0m 11ms/step - accuracy: 0.8863 - loss: 0.3053 - val_accuracy: 0.8975 - val_loss: 0.2768\n",
      "Epoch 6/25\n",
      "\u001b[1m1875/1875\u001b[0m \u001b[32m━━━━━━━━━━━━━━━━━━━━\u001b[0m\u001b[37m\u001b[0m \u001b[1m21s\u001b[0m 11ms/step - accuracy: 0.8954 - loss: 0.2830 - val_accuracy: 0.9057 - val_loss: 0.2534\n",
      "Epoch 7/25\n",
      "\u001b[1m1875/1875\u001b[0m \u001b[32m━━━━━━━━━━━━━━━━━━━━\u001b[0m\u001b[37m\u001b[0m \u001b[1m24s\u001b[0m 13ms/step - accuracy: 0.8995 - loss: 0.2671 - val_accuracy: 0.9073 - val_loss: 0.2486\n",
      "Epoch 8/25\n",
      "\u001b[1m1875/1875\u001b[0m \u001b[32m━━━━━━━━━━━━━━━━━━━━\u001b[0m\u001b[37m\u001b[0m \u001b[1m26s\u001b[0m 14ms/step - accuracy: 0.9009 - loss: 0.2599 - val_accuracy: 0.9150 - val_loss: 0.2295\n",
      "Epoch 9/25\n",
      "\u001b[1m1875/1875\u001b[0m \u001b[32m━━━━━━━━━━━━━━━━━━━━\u001b[0m\u001b[37m\u001b[0m \u001b[1m28s\u001b[0m 15ms/step - accuracy: 0.9089 - loss: 0.2412 - val_accuracy: 0.9157 - val_loss: 0.2260\n",
      "Epoch 10/25\n",
      "\u001b[1m1875/1875\u001b[0m \u001b[32m━━━━━━━━━━━━━━━━━━━━\u001b[0m\u001b[37m\u001b[0m \u001b[1m113s\u001b[0m 60ms/step - accuracy: 0.9137 - loss: 0.2344 - val_accuracy: 0.9224 - val_loss: 0.2092\n",
      "Epoch 11/25\n",
      "\u001b[1m1875/1875\u001b[0m \u001b[32m━━━━━━━━━━━━━━━━━━━━\u001b[0m\u001b[37m\u001b[0m \u001b[1m26s\u001b[0m 14ms/step - accuracy: 0.9145 - loss: 0.2263 - val_accuracy: 0.9211 - val_loss: 0.2128\n",
      "Epoch 12/25\n",
      "\u001b[1m1875/1875\u001b[0m \u001b[32m━━━━━━━━━━━━━━━━━━━━\u001b[0m\u001b[37m\u001b[0m \u001b[1m28s\u001b[0m 15ms/step - accuracy: 0.9198 - loss: 0.2138 - val_accuracy: 0.9255 - val_loss: 0.2024\n",
      "Epoch 13/25\n",
      "\u001b[1m1875/1875\u001b[0m \u001b[32m━━━━━━━━━━━━━━━━━━━━\u001b[0m\u001b[37m\u001b[0m \u001b[1m41s\u001b[0m 22ms/step - accuracy: 0.9185 - loss: 0.2106 - val_accuracy: 0.9211 - val_loss: 0.2049\n",
      "Epoch 14/25\n",
      "\u001b[1m1875/1875\u001b[0m \u001b[32m━━━━━━━━━━━━━━━━━━━━\u001b[0m\u001b[37m\u001b[0m \u001b[1m36s\u001b[0m 19ms/step - accuracy: 0.9224 - loss: 0.2018 - val_accuracy: 0.9296 - val_loss: 0.1874\n",
      "Epoch 15/25\n",
      "\u001b[1m1875/1875\u001b[0m \u001b[32m━━━━━━━━━━━━━━━━━━━━\u001b[0m\u001b[37m\u001b[0m \u001b[1m35s\u001b[0m 19ms/step - accuracy: 0.9257 - loss: 0.1935 - val_accuracy: 0.9364 - val_loss: 0.1688\n",
      "Epoch 16/25\n",
      "\u001b[1m1875/1875\u001b[0m \u001b[32m━━━━━━━━━━━━━━━━━━━━\u001b[0m\u001b[37m\u001b[0m \u001b[1m32s\u001b[0m 17ms/step - accuracy: 0.9301 - loss: 0.1829 - val_accuracy: 0.9268 - val_loss: 0.1883\n",
      "Epoch 17/25\n",
      "\u001b[1m1875/1875\u001b[0m \u001b[32m━━━━━━━━━━━━━━━━━━━━\u001b[0m\u001b[37m\u001b[0m \u001b[1m30s\u001b[0m 16ms/step - accuracy: 0.9314 - loss: 0.1839 - val_accuracy: 0.9362 - val_loss: 0.1711\n",
      "Epoch 18/25\n",
      "\u001b[1m1875/1875\u001b[0m \u001b[32m━━━━━━━━━━━━━━━━━━━━\u001b[0m\u001b[37m\u001b[0m \u001b[1m36s\u001b[0m 19ms/step - accuracy: 0.9296 - loss: 0.1799 - val_accuracy: 0.9421 - val_loss: 0.1550\n",
      "Epoch 19/25\n",
      "\u001b[1m1875/1875\u001b[0m \u001b[32m━━━━━━━━━━━━━━━━━━━━\u001b[0m\u001b[37m\u001b[0m \u001b[1m40s\u001b[0m 21ms/step - accuracy: 0.9319 - loss: 0.1763 - val_accuracy: 0.9412 - val_loss: 0.1587\n",
      "Epoch 20/25\n",
      "\u001b[1m1875/1875\u001b[0m \u001b[32m━━━━━━━━━━━━━━━━━━━━\u001b[0m\u001b[37m\u001b[0m \u001b[1m31s\u001b[0m 16ms/step - accuracy: 0.9382 - loss: 0.1609 - val_accuracy: 0.9429 - val_loss: 0.1535\n",
      "Epoch 21/25\n",
      "\u001b[1m1875/1875\u001b[0m \u001b[32m━━━━━━━━━━━━━━━━━━━━\u001b[0m\u001b[37m\u001b[0m \u001b[1m24s\u001b[0m 13ms/step - accuracy: 0.9418 - loss: 0.1535 - val_accuracy: 0.9401 - val_loss: 0.1565\n",
      "Epoch 22/25\n",
      "\u001b[1m1875/1875\u001b[0m \u001b[32m━━━━━━━━━━━━━━━━━━━━\u001b[0m\u001b[37m\u001b[0m \u001b[1m30s\u001b[0m 16ms/step - accuracy: 0.9380 - loss: 0.1629 - val_accuracy: 0.9413 - val_loss: 0.1524\n",
      "Epoch 23/25\n",
      "\u001b[1m1875/1875\u001b[0m \u001b[32m━━━━━━━━━━━━━━━━━━━━\u001b[0m\u001b[37m\u001b[0m \u001b[1m24s\u001b[0m 13ms/step - accuracy: 0.9429 - loss: 0.1508 - val_accuracy: 0.9527 - val_loss: 0.1226\n",
      "Epoch 24/25\n",
      "\u001b[1m1875/1875\u001b[0m \u001b[32m━━━━━━━━━━━━━━━━━━━━\u001b[0m\u001b[37m\u001b[0m \u001b[1m45s\u001b[0m 24ms/step - accuracy: 0.9439 - loss: 0.1431 - val_accuracy: 0.9485 - val_loss: 0.1327\n",
      "Epoch 25/25\n",
      "\u001b[1m1875/1875\u001b[0m \u001b[32m━━━━━━━━━━━━━━━━━━━━\u001b[0m\u001b[37m\u001b[0m \u001b[1m46s\u001b[0m 24ms/step - accuracy: 0.9464 - loss: 0.1395 - val_accuracy: 0.9401 - val_loss: 0.1594\n"
     ]
    }
   ],
   "source": [
    "history = cnn.fit(X_train, y_train, epochs=25, validation_data=(X_val, y_val), shuffle=True)"
   ]
  },
  {
   "cell_type": "code",
   "execution_count": 48,
   "id": "7d37cb54",
   "metadata": {},
   "outputs": [
    {
     "data": {
      "image/png": "[encoded data removed]",
      "text/plain": [
       "<Figure size 1000x800 with 1 Axes>"
      ]
     },
     "metadata": {},
     "output_type": "display_data"
    }
   ],
   "source": [
    "pd.DataFrame(history.history).plot(figsize=(10, 8))\n",
    "plt.grid()\n",
    "plt.gca().set_ylim(0,1)\n",
    "plt.show()"
   ]
  },
  {
   "cell_type": "code",
   "execution_count": 58,
   "id": "4e97cd20",
   "metadata": {},
   "outputs": [
    {
     "name": "stdout",
     "output_type": "stream",
     "text": [
      "\u001b[1m313/313\u001b[0m \u001b[32m━━━━━━━━━━━━━━━━━━━━\u001b[0m\u001b[37m\u001b[0m \u001b[1m2s\u001b[0m 6ms/step\n"
     ]
    }
   ],
   "source": [
    "y_pred_cnn = cnn.predict(X_test)"
   ]
  },
  {
   "cell_type": "code",
   "execution_count": 69,
   "id": "eca10424",
   "metadata": {},
   "outputs": [
    {
     "data": {
      "text/plain": [
       "[(9, 9),\n",
       " (2, 2),\n",
       " (1, 1),\n",
       " (1, 1),\n",
       " (6, 6),\n",
       " (1, 1),\n",
       " (4, 4),\n",
       " (6, 6),\n",
       " (5, 5),\n",
       " (7, 7)]"
      ]
     },
     "execution_count": 69,
     "metadata": {},
     "output_type": "execute_result"
    }
   ],
   "source": [
    "[(y_test[pred], np.argmax(y_pred_cnn[pred])) for pred in range(10)]"
   ]
  }
 ],
 "metadata": {
  "kernelspec": {
   "display_name": "personal",
   "language": "python",
   "name": "python3"
  },
  "language_info": {
   "codemirror_mode": {
    "name": "ipython",
    "version": 3
   },
   "file_extension": ".py",
   "mimetype": "text/x-python",
   "name": "python",
   "nbconvert_exporter": "python",
   "pygments_lexer": "ipython3",
   "version": "3.11.8"
  }
 },
 "nbformat": 4,
 "nbformat_minor": 5
}
